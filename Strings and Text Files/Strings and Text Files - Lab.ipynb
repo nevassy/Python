{
 "cells": [
  {
   "cell_type": "markdown",
   "id": "15ac07c4",
   "metadata": {},
   "source": [
    "### Characters and Strings\n"
   ]
  },
  {
   "cell_type": "code",
   "execution_count": 1,
   "id": "0cac40da",
   "metadata": {},
   "outputs": [
    {
     "name": "stdout",
     "output_type": "stream",
     "text": [
      "Enter the substring you like to process:literals\n",
      "The length of the substring 'literals' is: 8\n"
     ]
    }
   ],
   "source": [
    "# The following Python program stores the string below into a variable called stringData. \n",
    "# Then, it acquires the user to input a substring to display it on the screen along with its length.\n",
    "\n",
    "stringData = \"String literals are written in a variety of ways.\"\n",
    "iSubstring = str(input(\"Enter the substring you like to process:\"))\n",
    "iLength = len(iSubstring)\n",
    "print(\"The length of the substring '\"+ iSubstring+\"' is:\", iLength)"
   ]
  },
  {
   "cell_type": "code",
   "execution_count": 5,
   "id": "94adc8e7",
   "metadata": {},
   "outputs": [
    {
     "name": "stdout",
     "output_type": "stream",
     "text": [
      "Enter the substring you like to process: written\n",
      "The length of the substring 'written' is: 7\n"
     ]
    }
   ],
   "source": [
    "#Modify the program to perform the following tasks, independently.\n",
    "\n",
    "# a. Check whether the entered substring is part of the original string. If the substring exists in\n",
    "#the original string, display the length of the substring; otherwise, display an error message.\n",
    "\n",
    "stringData = \"String literals are written in a variety of ways.\"\n",
    "iSubstring = str(input(\"Enter the substring you like to process: \"))\n",
    "if iSubstring in stringData:\n",
    "    iLength = len(iSubstring)\n",
    "    print(\"The length of the substring '\"+ iSubstring+\"' is:\", iLength)\n",
    "else:\n",
    "    print(\"It seems that the substring '\"+ iSubstring\\\n",
    "          + \"' is not part of the following string:\\n\"\\\n",
    "          + \"'\" +stringData+\"'\")"
   ]
  },
  {
   "cell_type": "code",
   "execution_count": 6,
   "id": "a107ee79",
   "metadata": {},
   "outputs": [
    {
     "name": "stdout",
     "output_type": "stream",
     "text": [
      "The character at the middle is: 't'\n"
     ]
    }
   ],
   "source": [
    "#b. Find and display the character at the middle position of the original string.\n",
    "\n",
    "stringData = \"String literals are written in a variety of ways.\"\n",
    "midCharacter = stringData[int(len(stringData) / 2)]\n",
    "print(\"The character at the middle is: '\"+ midCharacter + \"'\")"
   ]
  },
  {
   "cell_type": "code",
   "execution_count": 2,
   "id": "ad837231",
   "metadata": {},
   "outputs": [
    {
     "name": "stdout",
     "output_type": "stream",
     "text": [
      "Enter the substring you like to replace:are written\n",
      "Enter the new substring:can be presented\n",
      "Here is the new string:\n",
      " String literals can be presented in a variety of ways.\n"
     ]
    }
   ],
   "source": [
    "#c. Replace a particular substring in the original string by another word that is given by the user.\n",
    "#Verify your answer by replacing the substring ‘are written’ with ‘can be presented’.\n",
    "#Hint: Use the replace() built-in method.\n",
    "\n",
    "stringData = \"String literals are written in a variety of ways.\"\n",
    "iSubstring = str(input(\"Enter the substring you like to replace:\"))\n",
    "newSubstring = str(input(\"Enter the new substring:\"))\n",
    "modifiedString = stringData.replace(iSubstring, newSubstring)\n",
    "print(\"Here is the new string:\\n\", modifiedString)"
   ]
  },
  {
   "cell_type": "code",
   "execution_count": 4,
   "id": "4a99169a",
   "metadata": {},
   "outputs": [
    {
     "name": "stdout",
     "output_type": "stream",
     "text": [
      "Enter the substring you like to process:are\n",
      "The substring 'are' starts at position: 16 and ends at: 19\n"
     ]
    }
   ],
   "source": [
    "#d. Return the starting and ending positions of the entered substring.\n",
    "#Hint: Use the find() built-in method and the len() function.\n",
    "\n",
    "stringData = \"String literals are written in a variety of ways.\"\n",
    "iSubstring = str(input(\"Enter the substring you like to process:\"))\n",
    "startingIndex = stringData.find(iSubstring)\n",
    "endingIndex = startingIndex + len(iSubstring)\n",
    "print(\"The substring '\"+ iSubstring + \"' starts at position:\", startingIndex, \"and ends at:\", endingIndex)"
   ]
  },
  {
   "cell_type": "code",
   "execution_count": 7,
   "id": "e5071639",
   "metadata": {},
   "outputs": [
    {
     "name": "stdout",
     "output_type": "stream",
     "text": [
      "String literals are written in a variety of ways\n"
     ]
    }
   ],
   "source": [
    "# e. Truncate the period at the end of the original string\n",
    "stringData = \"String literals are written in a variety of ways.\"\n",
    "newString = stringData.replace(\".\", \"\")\n",
    "print(newString)"
   ]
  },
  {
   "cell_type": "code",
   "execution_count": 9,
   "id": "337423e8",
   "metadata": {},
   "outputs": [
    {
     "name": "stdout",
     "output_type": "stream",
     "text": [
      "String literals are written in a variety of ways#: single, Double, and Triple quotes.\n"
     ]
    }
   ],
   "source": [
    "# f. Add the following substring to the end of the original string after removing the period:\n",
    "# \": Single, Double, and Triple quotes\"\n",
    "#hint: consider using the + operator to join one string with another.\n",
    "\n",
    "stringData = \"String literals are written in a variety of ways.\"\n",
    "newString = stringData.replace(\".\", \"\") + str(\": single, Double, and Triple quotes.\")\n",
    "print(newString)"
   ]
  },
  {
   "cell_type": "markdown",
   "id": "3f267d3a",
   "metadata": {},
   "source": [
    "### Text Files\n",
    "The following Python program is opening a text-based file called tedTitles.txt, which includes\n",
    "some of the titles of the most popular talks on the ted.com website.\n",
    "(https://www.ted.com/playlists/171/the_most_popular_talks_of_all)"
   ]
  },
  {
   "cell_type": "code",
   "execution_count": 12,
   "id": "f3443c47",
   "metadata": {},
   "outputs": [],
   "source": [
    "textFile = open(\"tedTitles.txt\", \"w\") #Opening a file for writing\n",
    "textFile.write(\"Do schools kill creativity?\\n\\\n",
    "Your body language may shape who you are\\n\\\n",
    "How great leaders inspire action\\n\\\n",
    "The power of vulnerability\\n\\\n",
    "10 things you didn't know about orgasm\\n\\\n",
    "How to speak so that people want to listen\\n\\\n",
    "My stroke of insight\\n\\\n",
    "This is what happens when you reply to spam email\\n\\\n",
    "Looks aren't everything. Believe me, I'm a model.\\n\\\n",
    "The puzzle of motivation\\n\\\n",
    "The power of introverts\\n\\\n",
    "How to spot a liar\\n\\\n",
    "What makes a good life? Lessons from the longest study on happiness\\n\\\n",
    "The happy secret to better work\\n\\\n",
    "The thrilling potential of SixthSense technology\")\n",
    "textFile.close()"
   ]
  },
  {
   "cell_type": "code",
   "execution_count": 13,
   "id": "3d92242a",
   "metadata": {},
   "outputs": [
    {
     "name": "stdout",
     "output_type": "stream",
     "text": [
      "In the 'tedTitles.text' file, there are 15 lines.\n"
     ]
    }
   ],
   "source": [
    "# Modify the program to perform the following tasks, independently.\n",
    "# a. Display the total number of lines in the tedTitles.txt file.\n",
    "# Hint: Use the readlines() built-in method.\n",
    "\n",
    "textFile = open(\"tedTitles.txt\", \"r\") #Opening a file for reading\n",
    "contentsData = textFile.readlines() #Read and Store\n",
    "lineNumbers = 0\n",
    "for line in contentsData:\n",
    "    lineNumbers += 1\n",
    "print(\"In the 'tedTitles.text' file, there are\" , lineNumbers, \"lines.\")\n",
    "textFile.close()"
   ]
  },
  {
   "cell_type": "code",
   "execution_count": 14,
   "id": "f3c07503",
   "metadata": {},
   "outputs": [
    {
     "name": "stdout",
     "output_type": "stream",
     "text": [
      "Title: Do schools kill creativity?\n",
      "Number of words: 4 \n",
      "\n",
      "Title: Your body language may shape who you are\n",
      "Number of words: 8 \n",
      "\n",
      "Title: How great leaders inspire action\n",
      "Number of words: 5 \n",
      "\n",
      "Title: The power of vulnerability\n",
      "Number of words: 4 \n",
      "\n",
      "Title: 10 things you didn't know about orgasm\n",
      "Number of words: 7 \n",
      "\n",
      "Title: How to speak so that people want to listen\n",
      "Number of words: 9 \n",
      "\n",
      "Title: My stroke of insight\n",
      "Number of words: 4 \n",
      "\n",
      "Title: This is what happens when you reply to spam email\n",
      "Number of words: 10 \n",
      "\n",
      "Title: Looks aren't everything. Believe me, I'm a model.\n",
      "Number of words: 8 \n",
      "\n",
      "Title: The puzzle of motivation\n",
      "Number of words: 4 \n",
      "\n",
      "Title: The power of introverts\n",
      "Number of words: 4 \n",
      "\n",
      "Title: How to spot a liar\n",
      "Number of words: 5 \n",
      "\n",
      "Title: What makes a good life? Lessons from the longest study on happiness\n",
      "Number of words: 12 \n",
      "\n",
      "Title: The happy secret to better work\n",
      "Number of words: 6 \n",
      "\n",
      "Title: The thrilling potential of SixthSense technologyNumber of words: 6 \n",
      "\n"
     ]
    }
   ],
   "source": [
    "#b. Display all the titles inside the tedTitles.txt file. Beside each title, display the total number\n",
    "#of words of that title.\n",
    "#Hint: Use the split() built-in method.\n",
    "\n",
    "textFile = open(\"tedTitles.txt\", \"r\")\n",
    "contentsData = textFile.readlines()\n",
    "lineNumbers = 0\n",
    "for line in contentsData:\n",
    "    lineNumbers+=1\n",
    "    print(\"Title:\", line, end=\"\")\n",
    "    print(\"Number of words:\", len(line.split()), \"\\n\")\n",
    "textFile.close()"
   ]
  },
  {
   "cell_type": "code",
   "execution_count": 1,
   "id": "c6a5fba8",
   "metadata": {},
   "outputs": [
    {
     "name": "stdout",
     "output_type": "stream",
     "text": [
      "Title: Do schools kill creativity?\n",
      "Number of characters: 27 \n",
      "\n",
      "Title: Your body language may shape who you are\n",
      "Number of characters: 40 \n",
      "\n",
      "Title: How great leaders inspire action\n",
      "Number of characters: 32 \n",
      "\n",
      "Title: The power of vulnerability\n",
      "Number of characters: 26 \n",
      "\n",
      "Title: 10 things you didn't know about orgasm\n",
      "Number of characters: 38 \n",
      "\n",
      "Title: How to speak so that people want to listen\n",
      "Number of characters: 42 \n",
      "\n",
      "Title: My stroke of insight\n",
      "Number of characters: 20 \n",
      "\n",
      "Title: This is what happens when you reply to spam email\n",
      "Number of characters: 49 \n",
      "\n",
      "Title: Looks aren't everything. Believe me, I'm a model.\n",
      "Number of characters: 49 \n",
      "\n",
      "Title: The puzzle of motivation\n",
      "Number of characters: 24 \n",
      "\n",
      "Title: The power of introverts\n",
      "Number of characters: 23 \n",
      "\n",
      "Title: How to spot a liar\n",
      "Number of characters: 18 \n",
      "\n",
      "Title: What makes a good life? Lessons from the longest study on happiness\n",
      "Number of characters: 67 \n",
      "\n",
      "Title: The happy secret to better work\n",
      "Number of characters: 31 \n",
      "\n",
      "Title: The thrilling potential of SixthSense technologyNumber of characters: 47 \n",
      "\n"
     ]
    }
   ],
   "source": [
    "#c. Display all the titles inside the tedTitles.txt file. Beside each title, display the total number\n",
    "#of characters of that title.\n",
    "#Hint: use a simple for-loop and the len() function.\n",
    "\n",
    "textFile = open(\"tedTitles.txt\", \"r\") #Opening a file for reading\n",
    "contentsData = textFile.readlines() #Read and Store\n",
    "lineNumbers = 0\n",
    "for line in contentsData:\n",
    "    print(\"Title:\", line, end='')\n",
    "    print(\"Number of characters:\", len(line)-1,\"\\n\")\n",
    "    lineNumbers += 1\n",
    "textFile.close()"
   ]
  },
  {
   "cell_type": "code",
   "execution_count": 3,
   "id": "a968db3d",
   "metadata": {},
   "outputs": [
    {
     "name": "stdout",
     "output_type": "stream",
     "text": [
      "In the 'tedTitles.text' file: There are 2 question marks, 3 single quotes, and 2 periods.\n"
     ]
    }
   ],
   "source": [
    "#d. Display the total number of:\n",
    "#question marks, single quotes, and periods within the tedTitles.txt file.\n",
    "\n",
    "textFile = open(\"tedTitles.txt\", \"r\") #Opening a file for reading\n",
    "contentsData = textFile.read() #Read and Store\n",
    "qCounter = pCounter = sqCounter = 0\n",
    "for iLetter in contentsData:\n",
    "    if iLetter == \"?\":\n",
    "        qCounter += 1\n",
    "    if iLetter == \"'\":\n",
    "        sqCounter += 1\n",
    "    if iLetter == \".\":\n",
    "        pCounter += 1\n",
    "print(\"In the 'tedTitles.text' file: There are\" \\\n",
    ", qCounter, \"question marks,\"\\\n",
    ", sqCounter, \"single quotes,\"\\\n",
    ", \"and\", pCounter, \"periods.\")\n",
    "textFile.close()"
   ]
  },
  {
   "cell_type": "code",
   "execution_count": 4,
   "id": "bae2aaee",
   "metadata": {},
   "outputs": [
    {
     "name": "stdout",
     "output_type": "stream",
     "text": [
      "In the 'tedTitles.text' file: There are 4 words exceeding 10 letters, and 19 words less than 5 letters.\n"
     ]
    }
   ],
   "source": [
    "#e. Display the total number of words that exceed ten letters and less than three letters within the\n",
    "#tedTitles.txt file.\n",
    "#Hint: Use an outer loop to iterate through the lines of the text and an inner loop to iterate\n",
    "#through each line’s words.\n",
    "textFile = open(\"tedTitles.txt\", \"r\") #Opening a file for reading\n",
    "contentsData = textFile.readlines() #Read and Store\n",
    "bCounter = sCounter = 0\n",
    "for iLine in contentsData:\n",
    "    for iWord in iLine.split():\n",
    "        if len(iWord) > 10:\n",
    "            bCounter += 1\n",
    "        if len(iWord) < 3:\n",
    "            sCounter += 1\n",
    "print(\"In the 'tedTitles.text' file: There are\" \\\n",
    ", bCounter, \"words exceeding 10 letters,\"\\\n",
    ", \"and\"\\\n",
    ", sCounter, \"words less than 5 letters.\")\n",
    "textFile.close()"
   ]
  },
  {
   "cell_type": "code",
   "execution_count": 6,
   "id": "a1159937",
   "metadata": {},
   "outputs": [
    {
     "name": "stdout",
     "output_type": "stream",
     "text": [
      "Do schools kill creativity?????????\n",
      "Your body language may shape who you are\n",
      "How great leaders inspire action\n",
      "The power of vulnerability\n",
      "10 things you didn't know about orgasm\n",
      "How to speak so that people want to listen\n",
      "My stroke of insight\n",
      "This is what happens when you reply to spam email\n",
      "Looks aren't everything. Believe me, I'm a model.\n",
      "The puzzle of motivation\n",
      "The power of introverts\n",
      "How to spot a liar\n",
      "What makes a good life? Lessons from the longest study on happiness\n",
      "The happy secret to better work\n",
      "The thrilling potential of SixthSense technology.....\n",
      "How I held my breath for 17 minutes\n",
      "The art of misdirection\n",
      "The surprising science of happiness"
     ]
    }
   ],
   "source": [
    "#f. Add the following three titles to the end of the contents of the tedTitles.txt file. Then,\n",
    "#verify your code by displaying the updated contents.\n",
    "#How I held my breath for 17 minutes\n",
    "#The art of misdirection\n",
    "#The surprising science of happiness\n",
    "\n",
    "textFile = open(\"tedTitles.txt\", \"a\") #Opening a file for appending\n",
    "newText = \"\\nHow I held my breath for 17 minutes\\n\\\n",
    "The art of misdirection\\n\\\n",
    "The surprising science of happiness\"\n",
    "textFile.writelines(newText)\n",
    "textFile.close()\n",
    "\n",
    "textFile = open(\"tedTitles.txt\", \"r\") #Opening a file for reading\n",
    "contentsData = textFile.readlines() #Read and Store\n",
    "for iLine in contentsData:\n",
    "    print(iLine, end ='')\n",
    "textFile.close()"
   ]
  }
 ],
 "metadata": {
  "kernelspec": {
   "display_name": "Python 3 (ipykernel)",
   "language": "python",
   "name": "python3"
  },
  "language_info": {
   "codemirror_mode": {
    "name": "ipython",
    "version": 3
   },
   "file_extension": ".py",
   "mimetype": "text/x-python",
   "name": "python",
   "nbconvert_exporter": "python",
   "pygments_lexer": "ipython3",
   "version": "3.9.13"
  }
 },
 "nbformat": 4,
 "nbformat_minor": 5
}
