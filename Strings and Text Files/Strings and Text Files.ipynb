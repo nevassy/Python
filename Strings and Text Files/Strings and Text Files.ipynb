{
 "cells": [
  {
   "cell_type": "markdown",
   "id": "288ac25f",
   "metadata": {},
   "source": [
    "### Characters and Strings"
   ]
  },
  {
   "cell_type": "code",
   "execution_count": 8,
   "id": "8020f12b",
   "metadata": {},
   "outputs": [
    {
     "name": "stdout",
     "output_type": "stream",
     "text": [
      "8\n",
      "C\n",
      "3\n",
      "0\n",
      "0\n"
     ]
    }
   ],
   "source": [
    "courseCode = \"CIND 830\"\n",
    "\n",
    "#display the length of the string which is \"8\"\n",
    "print(len(courseCode))\n",
    "\n",
    "#display the 1st character which is \"C\"\n",
    "print(courseCode[0])\n",
    "\n",
    "#display the 7th character which is \"3\"\n",
    "print(courseCode[6])\n",
    "\n",
    "#display the last character which is \"0\"\n",
    "print(courseCode[-1])\n",
    "print(courseCode[len(courseCode)-1])"
   ]
  },
  {
   "cell_type": "markdown",
   "id": "5a2bcd9a",
   "metadata": {},
   "source": [
    "### Slicing Strings"
   ]
  },
  {
   "cell_type": "code",
   "execution_count": 18,
   "id": "061ae1f8",
   "metadata": {},
   "outputs": [
    {
     "name": "stdout",
     "output_type": "stream",
     "text": [
      "Py\n",
      "Py\n",
      "Py\n",
      "thon\n",
      "thon\n",
      "thon\n",
      "Python\n",
      "Python\n",
      "Python\n",
      "Python\n"
     ]
    }
   ],
   "source": [
    "progLang = \"Python\"\n",
    "\n",
    "#display the first 2 characters which are \"Py\"\n",
    "print(progLang[0:2])\n",
    "print(progLang[:2])\n",
    "print(progLang[:-4])\n",
    "\n",
    "#display the last 4 characters which are \"thon\"\n",
    "print(progLang[2:])\n",
    "print(progLang[2:6])\n",
    "print(progLang[-4:])\n",
    "\n",
    "#display all the characters\n",
    "print(progLang[0:6])\n",
    "print(progLang[:])\n",
    "print(progLang[0:])\n",
    "print(progLang[:6])"
   ]
  },
  {
   "cell_type": "markdown",
   "id": "42bf6db5",
   "metadata": {},
   "source": [
    "### Strings and Number Systems"
   ]
  },
  {
   "cell_type": "code",
   "execution_count": 20,
   "id": "ae265350",
   "metadata": {},
   "outputs": [
    {
     "name": "stdout",
     "output_type": "stream",
     "text": [
      "The integer value is 5\n"
     ]
    }
   ],
   "source": [
    "# Convert 101 to integer\n",
    "\n",
    "bitString = \"101\"\n",
    "result = 0\n",
    "exponent = len(bitString) - 1\n",
    "for bit in bitString:\n",
    "    result = result + int(bit) * 2 ** exponent\n",
    "    exponent = exponent - 1\n",
    "print(\"The integer value is\", result)"
   ]
  },
  {
   "cell_type": "markdown",
   "id": "5c61c8e9",
   "metadata": {},
   "source": [
    "### String Methods"
   ]
  },
  {
   "cell_type": "code",
   "execution_count": 22,
   "id": "b18657da",
   "metadata": {},
   "outputs": [
    {
     "name": "stdout",
     "output_type": "stream",
     "text": [
      "['String', 'literals', 'are', 'written', 'in', 'a', 'variety', 'of', 'ways:', 'Single,', 'Double,', 'and', 'Triple', 'quotes']\n",
      "14\n"
     ]
    }
   ],
   "source": [
    "#practicing String methods\n",
    "\n",
    "Sentence = '''String literals are written in a variety of ways:\n",
    "Single, Double, and Triple quotes'''\n",
    "\n",
    "#split without a delimeter\n",
    "print(Sentence.split())\n",
    "print(len(Sentence.split()))"
   ]
  },
  {
   "cell_type": "code",
   "execution_count": 25,
   "id": "7cfa9ca0",
   "metadata": {},
   "outputs": [
    {
     "name": "stdout",
     "output_type": "stream",
     "text": [
      "['String literals are written in a variety of ways:', 'Single, Double, and Triple quotes']\n",
      "2\n"
     ]
    }
   ],
   "source": [
    "#split using a delimeter \"\\n\"\n",
    "print(Sentence.split(\"\\n\"))\n",
    "print(len(Sentence.split(\"\\n\")))"
   ]
  },
  {
   "cell_type": "code",
   "execution_count": 26,
   "id": "9b69265b",
   "metadata": {},
   "outputs": [
    {
     "name": "stdout",
     "output_type": "stream",
     "text": [
      "['String literals are written in a variety of ways', '\\nSingle, Double, and Triple quotes']\n",
      "2\n"
     ]
    }
   ],
   "source": [
    "#split using a delimeter \":\"\n",
    "print(Sentence.split(\":\"))\n",
    "print(len(Sentence.split(\":\")))"
   ]
  },
  {
   "cell_type": "code",
   "execution_count": 28,
   "id": "dca31e74",
   "metadata": {},
   "outputs": [
    {
     "name": "stdout",
     "output_type": "stream",
     "text": [
      "STRING LITERALS ARE WRITTEN IN A VARIETY OF WAYS:\n",
      "SINGLE, DOUBLE, AND TRIPLE QUOTES\n"
     ]
    }
   ],
   "source": [
    "#uppercase\n",
    "print(Sentence.upper())"
   ]
  },
  {
   "cell_type": "code",
   "execution_count": 29,
   "id": "15651018",
   "metadata": {},
   "outputs": [
    {
     "name": "stdout",
     "output_type": "stream",
     "text": [
      "string literals are written in a variety of ways:\n",
      "single, double, and triple quotes\n"
     ]
    }
   ],
   "source": [
    "#lowercase\n",
    "print(Sentence.lower())"
   ]
  },
  {
   "cell_type": "code",
   "execution_count": 34,
   "id": "08a5731d",
   "metadata": {},
   "outputs": [
    {
     "name": "stdout",
     "output_type": "stream",
     "text": [
      "False\n",
      "False\n"
     ]
    }
   ],
   "source": [
    "#letters or digits\n",
    "print(Sentence.isalpha())\n",
    "print(Sentence.isdigit())"
   ]
  },
  {
   "cell_type": "code",
   "execution_count": 35,
   "id": "df7fc4f4",
   "metadata": {},
   "outputs": [
    {
     "name": "stdout",
     "output_type": "stream",
     "text": [
      "3\n"
     ]
    }
   ],
   "source": [
    "#number of occurrences of \"le\"\n",
    "print(Sentence.count(\"le\"))"
   ]
  },
  {
   "cell_type": "markdown",
   "id": "1c08929c",
   "metadata": {},
   "source": [
    "### Text Files"
   ]
  },
  {
   "cell_type": "code",
   "execution_count": null,
   "id": "5e862067",
   "metadata": {},
   "outputs": [],
   "source": [
    "# text file Operations and Methods\n",
    "\n",
    "textFile = open(\"myfile.txt\", \"w\") #opening a file for writing\n",
    "textFile.write(\"Fisrt line.\\nSecond line.\\n\")\n",
    "textFile.close()\n",
    "\n",
    "textFile = open(\"myfile.txt\", \"a\") #opening a file for appending\n",
    "textFile.write(\"Third line.\\n\")\n",
    "textFile.writelines(text)\n",
    "textFile.close()\n",
    "\n",
    "textFile = open(\"myfile.txt\", \"r\") #opening a file for reading\n",
    "contentsFile = textFile.read()    # Read and store\n",
    "print(contentsFile)              # display the contents\n",
    "textFile.close()\n"
   ]
  },
  {
   "cell_type": "code",
   "execution_count": null,
   "id": "fa9f11f7",
   "metadata": {},
   "outputs": [],
   "source": [
    "# Accessing and manipulating files\n",
    "\n",
    "import os     #import the OS library\n",
    "\n",
    "currentDir = os.getcwd()     #acquiring the current working directory\n",
    "\n",
    "listOfFiles = os.listdir(currentDir)   #store the file names as a list\n",
    "\n",
    "for name in listOfFiles:\n",
    "    if \".py\" in name:\n",
    "        print(name)"
   ]
  }
 ],
 "metadata": {
  "kernelspec": {
   "display_name": "Python 3 (ipykernel)",
   "language": "python",
   "name": "python3"
  },
  "language_info": {
   "codemirror_mode": {
    "name": "ipython",
    "version": 3
   },
   "file_extension": ".py",
   "mimetype": "text/x-python",
   "name": "python",
   "nbconvert_exporter": "python",
   "pygments_lexer": "ipython3",
   "version": "3.9.13"
  }
 },
 "nbformat": 4,
 "nbformat_minor": 5
}
