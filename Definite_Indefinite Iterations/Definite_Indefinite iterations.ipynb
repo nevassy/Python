{
 "cells": [
  {
   "cell_type": "markdown",
   "id": "e9bb6558",
   "metadata": {},
   "source": [
    "## Definite Iterations"
   ]
  },
  {
   "cell_type": "code",
   "execution_count": 1,
   "id": "6dd90ad2",
   "metadata": {},
   "outputs": [
    {
     "name": "stdout",
     "output_type": "stream",
     "text": [
      "Welcome to the course\n",
      "Hello Python\n",
      "\n",
      "Welcome to the course\n",
      "Hello Python\n",
      "\n",
      "Welcome to the course\n",
      "Hello Python\n",
      "\n",
      "Welcome to the course\n",
      "Hello Python\n",
      "\n",
      "This is the end of the loop\n"
     ]
    }
   ],
   "source": [
    "# Repeating actions using Simple range()\n",
    "\n",
    "#To display two statements and a new line 4 times\n",
    "\n",
    "for counter in range (4):\n",
    "    print('Welcome to the course')\n",
    "    print('Hello Python\\n')\n",
    "print('This is the end of the loop')"
   ]
  },
  {
   "cell_type": "code",
   "execution_count": 2,
   "id": "c6beaf8b",
   "metadata": {},
   "outputs": [
    {
     "name": "stdout",
     "output_type": "stream",
     "text": [
      "Welcome to the course\n",
      "Hello Python\n",
      "\n",
      "Welcome to the course\n",
      "Hello Python\n",
      "\n",
      "Welcome to the course\n",
      "Hello Python\n",
      "\n",
      "Welcome to the course\n",
      "Hello Python\n",
      "\n",
      "This is the end of the loop\n",
      "3\n"
     ]
    }
   ],
   "source": [
    "# to display two statements and a new line 4 times\n",
    "\n",
    "for counter in range(4):\n",
    "    print('Welcome to the course')\n",
    "    print('Hello Python\\n')\n",
    "print('This is the end of the loop')\n",
    "print(counter)"
   ]
  },
  {
   "cell_type": "code",
   "execution_count": 4,
   "id": "3d71396a",
   "metadata": {},
   "outputs": [
    {
     "name": "stdout",
     "output_type": "stream",
     "text": [
      "Welcome to the course\n",
      "Hello Python\n",
      "\n",
      "Welcome to the course\n",
      "Hello Python\n",
      "\n",
      "Welcome to the course\n",
      "Hello Python\n",
      "\n",
      "This is the end of the loop\n",
      "------------------------------\n",
      "Welcome to this course\n",
      "Hello Python\n",
      "\n",
      "Welcome to this course\n",
      "Hello Python\n",
      "\n",
      "This is the end of the loop\n"
     ]
    }
   ],
   "source": [
    "# Repeating actions using extended\n",
    "\n",
    "for counter1 in range(1, 4):\n",
    "    print('Welcome to the course')\n",
    "    print('Hello Python\\n')\n",
    "print('This is the end of the loop')\n",
    "\n",
    "print('-' * 30)\n",
    "\n",
    "for counter2 in range(1, 4, 2):\n",
    "    print('Welcome to this course')\n",
    "    print('Hello Python\\n')\n",
    "print('This is the end of the loop')"
   ]
  },
  {
   "cell_type": "code",
   "execution_count": 10,
   "id": "eb4c8059",
   "metadata": {},
   "outputs": [
    {
     "name": "stdout",
     "output_type": "stream",
     "text": [
      "185\n"
     ]
    }
   ],
   "source": [
    "# Augmented assignment\n",
    "\n",
    "netPayment = 200\n",
    "overTime = 20\n",
    "taxDeduction = 35\n",
    "\n",
    "#netPayment = net payment + overTime\n",
    "netPayment += overTime\n",
    "\n",
    "# netPayment = netPayment - taxDeduction\n",
    "netPayment -= taxDeduction\n",
    " print \n",
    "print(netPayment)"
   ]
  },
  {
   "cell_type": "code",
   "execution_count": 11,
   "id": "f3f6bbe8",
   "metadata": {},
   "outputs": [
    {
     "name": "stdout",
     "output_type": "stream",
     "text": [
      "1 1 1\n",
      "2 4 8\n",
      "3 9 27\n",
      "4 16 64\n",
      "5 25 125\n",
      "This is the end of the 1st loop\n"
     ]
    }
   ],
   "source": [
    "# Traversing the contents of a Data sequence\n",
    "\n",
    "seq = [1, 2, 3, 4 , 5]\n",
    "for number in seq:\n",
    "    print(number, number**2, number**3)\n",
    "print('This is the end of the 1st loop')\n",
    "\n"
   ]
  },
  {
   "cell_type": "code",
   "execution_count": 12,
   "id": "6a2f9c46",
   "metadata": {},
   "outputs": [
    {
     "name": "stdout",
     "output_type": "stream",
     "text": [
      "P\n",
      "y\n",
      "t\n",
      "h\n",
      "o\n",
      "n\n",
      "This is the end of the 2nd loop\n"
     ]
    }
   ],
   "source": [
    "for character in 'Python':\n",
    "    print(character)\n",
    "print('This is the end of the 2nd loop')"
   ]
  },
  {
   "cell_type": "markdown",
   "id": "5fe9dbe3",
   "metadata": {},
   "source": [
    "## Indefinite iterations\n"
   ]
  },
  {
   "cell_type": "code",
   "execution_count": 18,
   "id": "816046c6",
   "metadata": {},
   "outputs": [
    {
     "name": "stdout",
     "output_type": "stream",
     "text": [
      "25\n"
     ]
    }
   ],
   "source": [
    "# Condition-controlled loop\n",
    "# While loop\n",
    "\n",
    "firstSum = 0\n",
    "for firstCounter in range(1, 11, 2):\n",
    "    firstSum += firstCounter\n",
    "print(firstSum)\n"
   ]
  },
  {
   "cell_type": "code",
   "execution_count": 19,
   "id": "b6972659",
   "metadata": {},
   "outputs": [
    {
     "name": "stdout",
     "output_type": "stream",
     "text": [
      "55\n"
     ]
    }
   ],
   "source": [
    "# While loop\n",
    "\n",
    "secondSum = 0\n",
    "secondCounter = 1\n",
    "\n",
    "while secondCounter <= 10:\n",
    "    secondSum += secondCounter\n",
    "    secondCounter += 1\n",
    "print(secondSum)"
   ]
  },
  {
   "cell_type": "code",
   "execution_count": 5,
   "id": "dcfef333",
   "metadata": {},
   "outputs": [
    {
     "name": "stdout",
     "output_type": "stream",
     "text": [
      "Welcome 7\n",
      "to 2\n",
      "the 3\n",
      "course 6\n"
     ]
    }
   ],
   "source": [
    "# Nested Itarations\n",
    "# Loops inside lopps\n",
    "\n",
    "for word in [\"Welcome\", \"to\", \"the\", \"course\"]:\n",
    "    count = 0\n",
    "    for letter in word:\n",
    "        count += 1\n",
    "    print(word, count)"
   ]
  },
  {
   "cell_type": "code",
   "execution_count": null,
   "id": "42dcd278",
   "metadata": {},
   "outputs": [],
   "source": []
  }
 ],
 "metadata": {
  "kernelspec": {
   "display_name": "Python 3 (ipykernel)",
   "language": "python",
   "name": "python3"
  },
  "language_info": {
   "codemirror_mode": {
    "name": "ipython",
    "version": 3
   },
   "file_extension": ".py",
   "mimetype": "text/x-python",
   "name": "python",
   "nbconvert_exporter": "python",
   "pygments_lexer": "ipython3",
   "version": "3.9.13"
  }
 },
 "nbformat": 4,
 "nbformat_minor": 5
}
