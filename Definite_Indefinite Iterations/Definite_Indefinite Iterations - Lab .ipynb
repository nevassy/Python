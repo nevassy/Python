{
 "cells": [
  {
   "cell_type": "markdown",
   "id": "9ca3dee8",
   "metadata": {},
   "source": [
    "# Lab 2"
   ]
  },
  {
   "cell_type": "markdown",
   "id": "cd0cd776",
   "metadata": {},
   "source": [
    "### 1. Definite iterations"
   ]
  },
  {
   "cell_type": "code",
   "execution_count": 2,
   "id": "5f89f873",
   "metadata": {},
   "outputs": [
    {
     "name": "stdout",
     "output_type": "stream",
     "text": [
      "0\n",
      "1\n",
      "2\n",
      "3\n",
      "4\n",
      "5\n",
      "6\n",
      "7\n",
      "8\n",
      "9\n"
     ]
    }
   ],
   "source": [
    "for counter in range(10):\n",
    "    print(counter)"
   ]
  },
  {
   "cell_type": "code",
   "execution_count": 6,
   "id": "129ddf8c",
   "metadata": {},
   "outputs": [
    {
     "name": "stdout",
     "output_type": "stream",
     "text": [
      "0\n",
      "2\n",
      "4\n",
      "6\n",
      "8\n",
      "10\n"
     ]
    }
   ],
   "source": [
    "# for loop that displays even numbers from 0 to 10, inclusively\n",
    "\n",
    "for counter in range(0, 11, 2):\n",
    "    print(counter)    "
   ]
  },
  {
   "cell_type": "code",
   "execution_count": 16,
   "id": "4a3f5580",
   "metadata": {},
   "outputs": [
    {
     "name": "stdout",
     "output_type": "stream",
     "text": [
      "0 2 4 6 8 10 \n",
      "\n",
      "12 10 8 6 4 2 "
     ]
    }
   ],
   "source": [
    "# for loop that displays even numbers from 0 to 10 on one line and the odd numbers from 11 to 1 on another line\n",
    "\n",
    "for counter in range(0, 11, 2):\n",
    "    print(counter, end =\" \")\n",
    "print(\"\\n\")\n",
    "for counter in range (12, 0,-2):\n",
    "    print(counter, end = \" \")"
   ]
  },
  {
   "cell_type": "code",
   "execution_count": 20,
   "id": "2ec994e2",
   "metadata": {},
   "outputs": [
    {
     "name": "stdout",
     "output_type": "stream",
     "text": [
      "P   80\n",
      "y   121\n",
      "t   116\n",
      "h   104\n",
      "o   111\n",
      "n   110\n"
     ]
    }
   ],
   "source": [
    "# code that displays each character of the string \"Python\" followed by its corresponding ASCII value\n",
    "\n",
    "for word in \"Python\":\n",
    "    print(word, \" \", ord(word))"
   ]
  },
  {
   "cell_type": "code",
   "execution_count": 21,
   "id": "c8888492",
   "metadata": {},
   "outputs": [
    {
     "name": "stdout",
     "output_type": "stream",
     "text": [
      "The net pay is: $185\n"
     ]
    }
   ],
   "source": [
    "# Augmented assignment\n",
    "netPay = 200\n",
    "overT = 20\n",
    "taxD = 35\n",
    "netPay = netPay + overT\n",
    "netPay = netPay - taxD\n",
    "print(\"The net pay is: $\" + str(netPay))"
   ]
  },
  {
   "cell_type": "markdown",
   "id": "69e20ba7",
   "metadata": {},
   "source": [
    "## Indefinite Iterations"
   ]
  },
  {
   "cell_type": "code",
   "execution_count": 22,
   "id": "196c8da2",
   "metadata": {},
   "outputs": [
    {
     "name": "stdout",
     "output_type": "stream",
     "text": [
      "0\n",
      "1\n",
      "2\n",
      "3\n",
      "4\n",
      "5\n",
      "6\n",
      "7\n",
      "8\n",
      "9\n"
     ]
    }
   ],
   "source": [
    "# Condition - controlled iteration\n",
    "# While loop\n",
    "\n",
    "counter = 0\n",
    "while counter < 10 :\n",
    "    print(counter)\n",
    "    counter += 1"
   ]
  },
  {
   "cell_type": "code",
   "execution_count": 32,
   "id": "1b5dbc76",
   "metadata": {},
   "outputs": [
    {
     "name": "stdout",
     "output_type": "stream",
     "text": [
      "Number\t Cubic Roots\tSquares\tCubes\n",
      "0 \t 0.0 \t\t 0 \t 0\n",
      "1 \t 1.0 \t\t 1 \t 1\n",
      "2 \t 1.26 \t\t 4 \t 8\n",
      "3 \t 1.44 \t\t 9 \t 27\n",
      "4 \t 1.59 \t\t 16 \t 64\n",
      "5 \t 1.71 \t\t 25 \t 125\n",
      "6 \t 1.82 \t\t 36 \t 216\n",
      "7 \t 1.91 \t\t 49 \t 343\n",
      "8 \t 2.0 \t\t 64 \t 512\n",
      "9 \t 2.08 \t\t 81 \t 729\n",
      "10 \t 2.15 \t\t 100 \t 1000\n"
     ]
    }
   ],
   "source": [
    "# while loop\n",
    "\n",
    "counter = 0\n",
    "print(\"Number\\t Cubic Roots\\tSquares\\tCubes\")\n",
    "while counter <=10:\n",
    "    print(counter, \"\\t\", round(counter**(1/3), 2), \"\\t\\t\", counter**2, \"\\t\", counter**3)\n",
    "    counter +=1"
   ]
  },
  {
   "cell_type": "code",
   "execution_count": 42,
   "id": "ab72aae4",
   "metadata": {},
   "outputs": [
    {
     "name": "stdout",
     "output_type": "stream",
     "text": [
      "Enter the first integer number: 1\n",
      "Enter the second integer number: 2\n",
      "The sum of the integers between 1 and 2 is:  3\n",
      "2\n",
      "The average of the integers between 1 and 2 is:  1.5\n"
     ]
    }
   ],
   "source": [
    "# Program that acquires two integers numbers from a user to calculate and display the sum average \n",
    "# of the integers in between thos two numbers\n",
    "\n",
    "firstInt = input(\"Enter the first integer number: \")\n",
    "secondInt = input(\"Enter the second integer number: \")\n",
    "\n",
    "iMin = min(int(firstInt), int(secondInt))\n",
    "iMax = max(int(firstInt), int(secondInt))\n",
    "iLength = abs(iMax - iMin) + 1\n",
    "\n",
    "counter = iMin\n",
    "iSum = 0\n",
    "while counter <= iMax:\n",
    "    iSum += counter\n",
    "    counter += 1\n",
    "print(\"The sum of the integers between\", iMin, \"and\", iMax, \"is: \", iSum)\n",
    "\n",
    "iAverage = iSum / iLength\n",
    "\n",
    "print(abs(int(iMin) - int(iMax)) + 1)\n",
    "print(\"The average of the integers between\", iMin,\"and\", iMax, \"is: \", iAverage)\n",
    "\n"
   ]
  },
  {
   "cell_type": "code",
   "execution_count": 16,
   "id": "2975292b",
   "metadata": {},
   "outputs": [
    {
     "name": "stdout",
     "output_type": "stream",
     "text": [
      "\n",
      "1 \n",
      "1 2 \n",
      "1 2 3 \n",
      "1 2 3 4 \n",
      "1 2 3 4 5 \n",
      "1 2 3 4 5 6 \n",
      "1 2 3 4 5 6 7 "
     ]
    }
   ],
   "source": [
    "# Nested iterartions\n",
    "\n",
    "for iCounter in range(1, 8):\n",
    "    print()\n",
    "    for jCounter in range(1, iCounter+1):\n",
    "        print(jCounter, end=\" \")"
   ]
  },
  {
   "cell_type": "code",
   "execution_count": 32,
   "id": "dbd1a81b",
   "metadata": {},
   "outputs": [
    {
     "name": "stdout",
     "output_type": "stream",
     "text": [
      "\n",
      "1 \n",
      "2 2 \n",
      "3 3 3 \n",
      "4 4 4 4 \n",
      "5 5 5 5 5 \n",
      "6 6 6 6 6 6 \n",
      "7 7 7 7 7 7 7 "
     ]
    }
   ],
   "source": [
    "for iCounter in range(1, 8):\n",
    "    print()\n",
    "    for jCounter in range(1, iCounter+1):\n",
    "        print(iCounter, end=\" \")"
   ]
  },
  {
   "cell_type": "code",
   "execution_count": 33,
   "id": "f91fd936",
   "metadata": {},
   "outputs": [
    {
     "name": "stdout",
     "output_type": "stream",
     "text": [
      "\n",
      "7 7 7 7 7 7 7 \n",
      "6 6 6 6 6 6 \n",
      "5 5 5 5 5 \n",
      "4 4 4 4 \n",
      "3 3 3 \n",
      "2 2 \n",
      "1 "
     ]
    }
   ],
   "source": [
    "for iCounter in range(7, 0, -1):\n",
    "    print()\n",
    "    for jCounter in range(1, iCounter+1):\n",
    "        print(iCounter, end=\" \")"
   ]
  },
  {
   "cell_type": "code",
   "execution_count": 34,
   "id": "32272d34",
   "metadata": {},
   "outputs": [
    {
     "name": "stdout",
     "output_type": "stream",
     "text": [
      "\n",
      "1 2 3 4 5 6 7 \n",
      "1 2 3 4 5 6 \n",
      "1 2 3 4 5 \n",
      "1 2 3 4 \n",
      "1 2 3 \n",
      "1 2 \n",
      "1 "
     ]
    }
   ],
   "source": [
    "for iCounter in range(7, 0, -1):\n",
    "    print()\n",
    "    for jCounter in range(1, iCounter+1):\n",
    "        print(jCounter, end=\" \")"
   ]
  },
  {
   "cell_type": "code",
   "execution_count": 44,
   "id": "e8c73688",
   "metadata": {},
   "outputs": [
    {
     "name": "stdout",
     "output_type": "stream",
     "text": [
      "              1 \r\n",
      "             2 2 \r\n",
      "            3 3 3 \r\n",
      "           4 4 4 4 \r\n",
      "          5 5 5 5 5 \r\n",
      "         6 6 6 6 6 6 \r\n",
      "        7 7 7 7 7 7 7 \r\n"
     ]
    }
   ],
   "source": [
    "kCounter = 7 * 2 # print 14 spaces in a line\n",
    "x = 0\n",
    "for iCounter in range(0, 7):\n",
    "    x += 1  # increment x by 1\n",
    "    for jCounter in range(0, kCounter):  # first inner loop\n",
    "        print(end = \" \")\n",
    "    kCounter = kCounter - 1  # decrease kcounter by 1\n",
    "    for jCounter in range(0, iCounter + 1): # 2nd inner loop\n",
    "        print(x, end = \" \")\n",
    "    print(\"\\r\") # return carriage (next print statement goes to the beginning of line\n",
    "              "
   ]
  },
  {
   "cell_type": "code",
   "execution_count": 48,
   "id": "8b87ea3f",
   "metadata": {},
   "outputs": [
    {
     "name": "stdout",
     "output_type": "stream",
     "text": [
      "The \t 3\n",
      "nested \t 6\n",
      "loops \t 5\n",
      "are \t 3\n",
      "lopps \t 5\n",
      "that \t 4\n",
      "iterate \t 7\n",
      "within \t 6\n",
      "other \t 5\n",
      "loops \t 5\n"
     ]
    }
   ],
   "source": [
    "# Program that counts the number of letters in each word of the following statement \"The nested loops are lopps that iterate within other loops\"\n",
    "\n",
    "#Counting the letters of each word in a given sentence\n",
    "iString = \"The nested loops are lopps that iterate within other loops\" \n",
    "for word in iString.split(): #to iterate through the words of this sentence\n",
    "    count = 0\n",
    "    for letter in word:\n",
    "        count += 1\n",
    "    print(word, \"\\t\", count)\n"
   ]
  }
 ],
 "metadata": {
  "kernelspec": {
   "display_name": "Python 3 (ipykernel)",
   "language": "python",
   "name": "python3"
  },
  "language_info": {
   "codemirror_mode": {
    "name": "ipython",
    "version": 3
   },
   "file_extension": ".py",
   "mimetype": "text/x-python",
   "name": "python",
   "nbconvert_exporter": "python",
   "pygments_lexer": "ipython3",
   "version": "3.9.13"
  }
 },
 "nbformat": 4,
 "nbformat_minor": 5
}
