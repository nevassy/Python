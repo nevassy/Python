{
 "cells": [
  {
   "cell_type": "markdown",
   "id": "9c1c1162",
   "metadata": {},
   "source": [
    "# Selection Statements"
   ]
  },
  {
   "cell_type": "code",
   "execution_count": 1,
   "id": "fe73d032",
   "metadata": {},
   "outputs": [
    {
     "name": "stdout",
     "output_type": "stream",
     "text": [
      "False\n",
      "True\n"
     ]
    }
   ],
   "source": [
    "# Identity vs Equality operator\n",
    "\n",
    "x = [None]\n",
    "y = [None]\n",
    "\n",
    "print(x is y)\n",
    "print(x == y)\n",
    "\n"
   ]
  },
  {
   "cell_type": "code",
   "execution_count": 8,
   "id": "b5de916c",
   "metadata": {},
   "outputs": [
    {
     "name": "stdout",
     "output_type": "stream",
     "text": [
      "Enter a numeric grade\n",
      "78\n",
      "Pass\n"
     ]
    }
   ],
   "source": [
    "# one-way selection statements\n",
    "# IF condition\n",
    "\n",
    "numGrade = float(input(\"Enter a numeric grade\\n\")) # string converted to Float\n",
    "if numGrade >=50:\n",
    "    print(\"Pass\")\n",
    "if numGrade < 50:\n",
    "    print(\"Fail\")"
   ]
  },
  {
   "cell_type": "code",
   "execution_count": 10,
   "id": "f7d17ea0",
   "metadata": {},
   "outputs": [
    {
     "name": "stdout",
     "output_type": "stream",
     "text": [
      "Enter a numeric grade\n",
      "68\n",
      "Pass\n"
     ]
    }
   ],
   "source": [
    "#Two-way selection\n",
    "# IF - ELSE condition\n",
    "\n",
    "numGrade = float(input(\"Enter a numeric grade\\n\")) # string converted to Float\n",
    "if numGrade >=50:\n",
    "    print(\"Pass\")\n",
    "else:\n",
    "    print(\"Fail\")"
   ]
  },
  {
   "cell_type": "code",
   "execution_count": 22,
   "id": "74afd9af",
   "metadata": {},
   "outputs": [
    {
     "name": "stdout",
     "output_type": "stream",
     "text": [
      "Enter a numeric grade\n",
      "49\n",
      "Unsatisfactory\n"
     ]
    }
   ],
   "source": [
    "# Multi -way selection statements\n",
    "# IF - ELIF - ELSE\n",
    "\n",
    "numGrade = float(input(\"Enter a numeric grade\\n\")) # string converted to Float\n",
    "if numGrade >= 80:\n",
    "    print(\"Excellent\")\n",
    "elif numGrade >= 70:\n",
    "    print(\"Good\")\n",
    "elif numGrade >= 60:\n",
    "    print(\"Satisfactory\")\n",
    "elif numGrade >= 50:\n",
    "    print(\"Marginal\")\n",
    "else:\n",
    "    print(\"Unsatisfactory\")"
   ]
  },
  {
   "cell_type": "code",
   "execution_count": null,
   "id": "29e5ee91",
   "metadata": {},
   "outputs": [],
   "source": []
  }
 ],
 "metadata": {
  "kernelspec": {
   "display_name": "Python 3 (ipykernel)",
   "language": "python",
   "name": "python3"
  },
  "language_info": {
   "codemirror_mode": {
    "name": "ipython",
    "version": 3
   },
   "file_extension": ".py",
   "mimetype": "text/x-python",
   "name": "python",
   "nbconvert_exporter": "python",
   "pygments_lexer": "ipython3",
   "version": "3.9.13"
  }
 },
 "nbformat": 4,
 "nbformat_minor": 5
}
