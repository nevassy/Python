{
 "cells": [
  {
   "cell_type": "markdown",
   "metadata": {
    "id": "kJ6ssXaGJfGN"
   },
   "source": [
    "\n",
    "### Practice - List of Marks\n"
   ]
  },
  {
   "cell_type": "markdown",
   "metadata": {
    "id": "Z5lAKTm6SWNs"
   },
   "source": [
    "### Question 1  :\n",
    "\n",
    "**a)**    Write a Python program that accepts a list of marks then prints the letter grade and description according to the [Grading System](https://continuing.ryerson.ca/contentManagement.do?method=load&code=CM000034) of the Chang School of Continuing Education.\n",
    "\n",
    "For example, if the user enters `90, 120, -12, 71.5, 62.5`, the output would be as follows:\n",
    "\n",
    "| Mark | Letter Grade | Performance Description |\n",
    "|:-:|:-:|:-:|\n",
    "| 90 | A+ | Excellent |\n",
    "| 120 | Not Possible | Not Possible |\n",
    "| -12 | Not Possible | Not Possible |\n",
    "| 71.5 | B- | Good |\n",
    "| 62.5 | C | Satisfactory |"
   ]
  },
  {
   "cell_type": "code",
   "execution_count": 1,
   "metadata": {
    "colab": {
     "base_uri": "https://localhost:8080/"
    },
    "id": "VM1VhboJSWNs",
    "jupyter": {
     "outputs_hidden": false
    },
    "outputId": "d325f524-e727-41a4-c49b-cf72034d70c5",
    "pycharm": {
     "name": "#%%\n"
    }
   },
   "outputs": [
    {
     "name": "stdout",
     "output_type": "stream",
     "text": [
      "Enter the marks separated by a comma:\n",
      "90, 120, -12, 71.5, 62.5\n",
      "\n",
      "Marks\tLetter Grade\tPerformance Description\n",
      "------------------------------------------------\n",
      "90.0 \tA+\t\tExcellent\n",
      "120.0 \tNot Possible\tNot Possible\n",
      "-12.0 \tNot Possible\tNot Possible\n",
      "71.5 \tB-\t\tGood\n",
      "62.5 \tC\t\tSatisfactory\n"
     ]
    }
   ],
   "source": [
    "\n",
    "# List of marks for the user to enter\n",
    "listMarks = list(map(float, input(\"Enter the marks separated by a comma:\\n\").split(\",\")))\n",
    "print() # print a new line\n",
    "\n",
    "#print headers\n",
    "print(\"Marks\\tLetter Grade\\tPerformance Description\")\n",
    "print(\"-\"*48) # print a line that separates the headers\n",
    "\n",
    "# List of Marks\n",
    "for x in listMarks:\n",
    "    print(x, end=\" \")\n",
    "    if 100>= x >= 89.5: \n",
    "        print(\"\\tA+\\t\\tExcellent\")\n",
    "    elif 89.5> x >= 84.5:  \n",
    "        print(\"\\tA\\t\\tExcellent\")\n",
    "    elif 84.5> x >= 79.5:\n",
    "        print(\"\\tA-\\t\\tExcellent\")\n",
    "    elif 79.5> x >= 76.5:\n",
    "        print(\"\\tB+\\t\\tGood\")\n",
    "    elif 76.5> x >= 72.5:\n",
    "        print(\"\\tB\\t\\tGood\")\n",
    "    elif 72.5> x >= 69.5:\n",
    "        print(\"\\tB-\\t\\tGood\")\n",
    "    elif 69.5> x >= 66.5:\n",
    "        print(\"\\tC+\\t\\tSatisfactory\")\n",
    "    elif 66.5> x >= 62.5:\n",
    "        print(\"\\tC\\t\\tSatisfactory\")\n",
    "    elif 62.5> x >= 59.5:\n",
    "        print(\"\\tC-\\t\\tSatisfactory\")\n",
    "    elif 59.5> x >= 56.5:\n",
    "        print(\"\\tD+\\t\\tMarginal\")\n",
    "    elif 56.5> x >= 52.5:\n",
    "        print(\"\\tD\\t\\tMarginal\")\n",
    "    elif 52.5> x >= 49.5:\n",
    "        print(\"\\tD-\\t\\tMarginal\")\n",
    "    elif 49.5> x >= 0:\n",
    "        print(\"\\tF\\t\\tUnsatisfactory\")     \n",
    "    else:\n",
    "        print(\"\\tNot Possible\\tNot Possible\")"
   ]
  },
  {
   "cell_type": "markdown",
   "metadata": {
    "id": "Or6tr66hSWNu"
   },
   "source": [
    "**b)**  Write a code to compute and print the sum of squares of only the `Excellent` marks.\n",
    "\n",
    "For example, if the user enters `90.5, 120, -12, 71.3, 82.2, 62.5`, then the output should be: <br>\n",
    "`The Excellent marks are:  [90.5, 82.2]`<br>\n",
    "`The sum of squares is  14947.09`"
   ]
  },
  {
   "cell_type": "code",
   "execution_count": 6,
   "metadata": {
    "colab": {
     "base_uri": "https://localhost:8080/"
    },
    "id": "42NZR6xiSWNu",
    "jupyter": {
     "outputs_hidden": false
    },
    "outputId": "fbe49914-b523-4b65-b6e3-3f173e5f310f",
    "pycharm": {
     "name": "#%%\n"
    }
   },
   "outputs": [
    {
     "name": "stdin",
     "output_type": "stream",
     "text": [
      "Enter the marks separated by a comma:\n",
      " 90.5, 120, -12, 71.3, 82.2, 62.5\n"
     ]
    },
    {
     "name": "stdout",
     "output_type": "stream",
     "text": [
      "\n",
      "Marks\tLetter Grade\tPerformance Description\n",
      "------------------------------------------------\n",
      "90.5 \tA+\t\tExcellent\n",
      "120.0 \tNot Possible\tNot Possible\n",
      "-12.0 \tNot Possible\tNot Possible\n",
      "71.3 \tB-\t\tGood\n",
      "82.2 \tA-\t\tExcellent\n",
      "62.5 \tC\t\tSatisfactory\n",
      "\n",
      "The Excellent marks are: [90.5, 82.2]\n",
      "The sum of squares is 14947.09\n"
     ]
    }
   ],
   "source": [
    "# List of marks for the user to enter\n",
    "listMarks = list(map(float, input(\"Enter the marks separated by a comma:\\n\").split(\",\")))\n",
    "print() # print a new line\n",
    "\n",
    "# print headers \n",
    "print(\"Marks\\tLetter Grade\\tPerformance Description\")\n",
    "print(\"-\"*48) # print a line that separates the headers\n",
    "\n",
    "Excelmarks=[] # empty array for Excellent marks\n",
    "\n",
    "# List of Marks\n",
    "for x in listMarks:\n",
    "    print(x, end=\" \")\n",
    "    if 100>= x >= 89.5: \n",
    "        print(\"\\tA+\\t\\tExcellent\")\n",
    "        Excelmarks.append(x) #append the Excellent marks\n",
    "    elif 89.5> x >= 84.5:  \n",
    "        print(\"\\tA\\t\\tExcellent\")\n",
    "        Excelmarks.append(x) #append the Excellent marks\n",
    "    elif 84.5> x >= 79.5:\n",
    "        print(\"\\tA-\\t\\tExcellent\")\n",
    "        Excelmarks.append(x) #append the Excellent marks\n",
    "    elif 79.5> x >= 76.5:\n",
    "        print(\"\\tB+\\t\\tGood\")\n",
    "    elif 76.5> x >= 72.5:\n",
    "        print(\"\\tB\\t\\tGood\")\n",
    "    elif 72.5> x >= 69.5:\n",
    "        print(\"\\tB-\\t\\tGood\")\n",
    "    elif 69.5> x >= 66.5:\n",
    "        print(\"\\tC+\\t\\tSatisfactory\")\n",
    "    elif 66.5> x >= 62.5:\n",
    "        print(\"\\tC\\t\\tSatisfactory\")\n",
    "    elif 62.5> x >= 59.5:\n",
    "        print(\"\\tC-\\t\\tSatisfactory\")\n",
    "    elif 59.5> x >= 56.5:\n",
    "        print(\"\\tD+\\t\\tMarginal\")\n",
    "    elif 56.5> x >= 52.5:\n",
    "        print(\"\\tD\\t\\tMarginal\")\n",
    "    elif 52.5> x >= 49.5:\n",
    "        print(\"\\tD-\\t\\tMarginal\")\n",
    "    elif 49.5> x >= 0:\n",
    "        print(\"\\tF\\t\\tUnsatisfactory\")     \n",
    "    else:\n",
    "        print(\"\\tNot Possible\\tNot Possible\")\n",
    "# print Excellent marks\n",
    "print(\"\\nThe Excellent marks are:\", Excelmarks)\n",
    "# print the sum of squares using sum(map(lambda()))\n",
    "print(\"The sum of squares is\", sum(map(lambda x:x*x, Excelmarks)))"
   ]
  },
  {
   "cell_type": "markdown",
   "metadata": {
    "id": "MsDmMXKsSWNv"
   },
   "source": [
    "**c)**  Write a code to compute and print the `Median`, `Average` and `Mode` of the marks between 0 and 100, inclusively, after rounding each mark to the nearest integer.  Ensure notifying the user if there is no unique mode found, as the `Mode` in this exercise returns only the single most common mark in the list.\n",
    "\n",
    "For example, if the user enters `89.7, 120, -12, 90, 60.2`, then the output should be: <br>\n",
    "`The valid marks are:  [90, 90, 60] `<br>\n",
    "`Median is 90 ; Average is 80 ; Mode is 90`\n",
    "\n",
    "However, if the user enters `90.6, 70, 100, 40.4`, then the output should be: <br>\n",
    "`The valid marks are:  [91, 70, 100, 40] `<br>\n",
    "`Median is 80.5 ; Average is 75.25 ; No unique mode found`\n",
    "\n",
    "Also, if the user enters `65, 65, 65, 35, 35, 35`, then the output should be: <br>\n",
    "`The valid marks are:  [65, 65, 65, 35, 35, 35] `<br>\n",
    "`Median is 50.0 ; Average is 50 ; No unique mode found`\n",
    "\n",
    "Hint: Use the [statistics] (https://docs.python.org/3.7/library/statistics.html) module as it provides functions to calculate mathematical statistics of numeric data."
   ]
  },
  {
   "cell_type": "code",
   "execution_count": 8,
   "metadata": {
    "colab": {
     "base_uri": "https://localhost:8080/"
    },
    "id": "7XTyejHkSWNv",
    "jupyter": {
     "outputs_hidden": false
    },
    "outputId": "73b4c6e6-1824-4b6e-a4fb-71bf429068cc",
    "pycharm": {
     "name": "#%%\n"
    }
   },
   "outputs": [
    {
     "name": "stdin",
     "output_type": "stream",
     "text": [
      "Enter the marks separated by a comma:\n",
      " 89.7, 120, -12, 90, 60.2\n"
     ]
    },
    {
     "name": "stdout",
     "output_type": "stream",
     "text": [
      "\n",
      "The valid marks are:  [90, 90, 60]\n",
      "Median is  90\n",
      "Average is  80\n",
      "Mode is  90\n"
     ]
    }
   ],
   "source": [
    "# List of marks for the user to enter\n",
    "listMarks = list(map(float, input(\"Enter the marks separated by a comma:\\n\").split(\",\")))\n",
    "print() # print a new line\n",
    "\n",
    "# Round the marks to the nearest integer and filter for valid marks\n",
    "markStat = list(map(round, listMarks))\n",
    "markStat = list(filter(lambda x: 100 >= x >= 0, markStat))\n",
    "print(\"The valid marks are: \", markStat)\n",
    "\n",
    "import statistics\n",
    "# Print the Median\n",
    "Median = print(\"Median is \", statistics.median(markStat))\n",
    "# Print the Average\n",
    "Average = print(\"Average is \", statistics.mean(markStat))\n",
    "\n",
    "# Print the mode. When there is not a unique mode, it raise an exception\n",
    "try: \n",
    "    mode= statistics.mode(markStat) # find the mode\n",
    "    print(\"Mode is \", mode)\n",
    "except:   # if there's statisticsError then print\n",
    "    print(\"No unique mode found\") "
   ]
  },
  {
   "cell_type": "markdown",
   "metadata": {
    "id": "WwsjUxjASWNw",
    "pycharm": {
     "name": "#%% md\n"
    }
   },
   "source": [
    "*****"
   ]
  }
 ],
 "metadata": {
  "colab": {
   "collapsed_sections": [],
   "name": "CIND830F21_Assignment1_QA.ipynb",
   "provenance": []
  },
  "kernelspec": {
   "display_name": "Python 3 (ipykernel)",
   "language": "python",
   "name": "python3"
  },
  "language_info": {
   "codemirror_mode": {
    "name": "ipython",
    "version": 3
   },
   "file_extension": ".py",
   "mimetype": "text/x-python",
   "name": "python",
   "nbconvert_exporter": "python",
   "pygments_lexer": "ipython3",
   "version": "3.9.13"
  },
  "nteract": {
   "version": "0.28.0"
  },
  "varInspector": {
   "cols": {
    "lenName": 16,
    "lenType": 16,
    "lenVar": 40
   },
   "kernels_config": {
    "python": {
     "delete_cmd_postfix": "",
     "delete_cmd_prefix": "del ",
     "library": "var_list.py",
     "varRefreshCmd": "print(var_dic_list())"
    },
    "r": {
     "delete_cmd_postfix": ") ",
     "delete_cmd_prefix": "rm(",
     "library": "var_list.r",
     "varRefreshCmd": "cat(var_dic_list()) "
    }
   },
   "types_to_exclude": [
    "module",
    "function",
    "builtin_function_or_method",
    "instance",
    "_Feature"
   ],
   "window_display": false
  }
 },
 "nbformat": 4,
 "nbformat_minor": 4
}
