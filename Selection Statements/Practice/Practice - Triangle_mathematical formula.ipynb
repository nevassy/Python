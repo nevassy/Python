{
 "cells": [
  {
   "cell_type": "markdown",
   "metadata": {
    "id": "kJ6ssXaGJfGN"
   },
   "source": [
    "### Triangle - mathematical formulae\n"
   ]
  },
  {
   "cell_type": "markdown",
   "metadata": {
    "id": "O3jPbo4vAvPc"
   },
   "source": [
    "### Question 1  :\n",
    "Write a program that accepts the lengths of three sides of a triangle as inputs then prints the type and compute the properties of the triangle according to the listed conditions and mathematical formulae."
   ]
  },
  {
   "cell_type": "markdown",
   "metadata": {
    "id": "18gi6YeGSWN1",
    "nteract": {
     "transient": {
      "deleting": false
     }
    }
   },
   "source": [
    "**a)**   Ensure that all side lengths are positive and the sum of any two side lengths is greater than the third side length."
   ]
  },
  {
   "cell_type": "code",
   "execution_count": 39,
   "metadata": {
    "colab": {
     "base_uri": "https://localhost:8080/"
    },
    "id": "hERBMkXjSWN1",
    "nteract": {
     "transient": {
      "deleting": false
     }
    },
    "outputId": "446f2a98-c5b1-4bcc-c76a-7fecb527a5f7"
   },
   "outputs": [
    {
     "name": "stdin",
     "output_type": "stream",
     "text": [
      "Enter a positive number, a: 6\n"
     ]
    },
    {
     "name": "stdout",
     "output_type": "stream",
     "text": [
      "7 "
     ]
    },
    {
     "name": "stdin",
     "output_type": "stream",
     "text": [
      "Enter a positive number, b: 5\n"
     ]
    },
    {
     "name": "stdout",
     "output_type": "stream",
     "text": [
      "7 "
     ]
    },
    {
     "name": "stdin",
     "output_type": "stream",
     "text": [
      "Enter a positive number, c: 8\n"
     ]
    },
    {
     "name": "stdout",
     "output_type": "stream",
     "text": [
      "7 Valid triangle\n"
     ]
    }
   ],
   "source": [
    "\n",
    "#Check that the sum of any two side lengths is greater than the third side\n",
    "def triangle (a, b, c):\n",
    "    if (a+b>c and c+a>b and b+c>a):\n",
    "        print(\"Valid triangle\")\n",
    "    else:\n",
    "        print(\"Invalid triangle\")\n",
    "\n",
    "#Ensure a positive number\n",
    "a = float(input(\"Enter a positive number, a:\"))\n",
    "if a > 0:\n",
    "    print(x, end=\" \")\n",
    "elif a == 0:\n",
    "    print(\"Zero is not a valid number\")\n",
    "else:\n",
    "    print(\"Not a valid number. Please enter a positive number\")\n",
    "\n",
    "b = float(input(\"Enter a positive number, b:\"))\n",
    "if a > 0:\n",
    "    print(x, end=\" \")\n",
    "elif a == 0:\n",
    "    print(\"Zero is not a valid number\")\n",
    "else:\n",
    "    print(\"Not a valid number. Please enter a positive number\") \n",
    "        \n",
    "c = float(input(\"Enter a positive number, c:\"))\n",
    "if a > 0:\n",
    "    print(x, end=\" \")\n",
    "elif a == 0:\n",
    "    print(\"Zero is not a valid number\")\n",
    "else:\n",
    "    print(\"Not a valid number. Please enter a positive number\")\n",
    "\n",
    "triangle (a, b, c)"
   ]
  },
  {
   "cell_type": "markdown",
   "metadata": {
    "id": "h_3gNcgeJfGU"
   },
   "source": [
    "**b)**   Display the type of the triangle according to the following restrictions:\n",
    "\n",
    "Equilateral Triangle: If the triangle has three congruent sides.\n",
    "\n",
    "Isosceles Triangle: If the triangle has two equal sides.\n",
    " \n",
    "Scalene Triangle: If the triangle has no congruent sides, and each side have a different length.\n",
    " \n",
    "Right Triangle: If the square of one side equals the sum of the squares of the other\n",
    "two sides.\n",
    " \n",
    " "
   ]
  },
  {
   "cell_type": "code",
   "execution_count": 29,
   "metadata": {
    "colab": {
     "base_uri": "https://localhost:8080/"
    },
    "id": "L1uEFS0GAvPg",
    "outputId": "ee0db477-15c8-4631-cb49-4d6d152f298e"
   },
   "outputs": [
    {
     "name": "stdin",
     "output_type": "stream",
     "text": [
      "Enter a positive number, a: 3\n",
      "Enter a positive number, b: 4\n",
      "Enter a positive number, c: 5\n"
     ]
    },
    {
     "name": "stdout",
     "output_type": "stream",
     "text": [
      "Right triangle\n"
     ]
    }
   ],
   "source": [
    "\n",
    "a = int(input(\"Enter a positive number, a:\"))\n",
    "b = int(input(\"Enter a positive number, b:\"))\n",
    "c = int(input(\"Enter a positive number, c:\"))\n",
    "\n",
    "if a == b and b==c :\n",
    "    print(\"Equilateral Triangle\")\n",
    "elif a == b or b == c or c == a :\n",
    "    print(\"Isosceles Triangle\")\n",
    "elif a**2+b**2==c**2 or a**2+c**2==b**2 or b**2+c**2==a**2 :\n",
    "    print(\"Right triangle\")\n",
    "else :\n",
    "    print(\"Scalene Triangle\")"
   ]
  },
  {
   "cell_type": "markdown",
   "metadata": {
    "id": "zk8tOTcOSWN2",
    "nteract": {
     "transient": {
      "deleting": false
     }
    }
   },
   "source": [
    "**c)**    Compute the area and the perimeter of the triangle according to the following formulae:\n",
    "\n",
    "  $TrianglePerimeter = side_1 + side_2 + side_3$\n",
    "  \n",
    "  $TriangleArea = \\sqrt{p(p-side_1)(p-side_2)(p-side_3)} ,where~p = \\frac{side_1+side_2+side_3}{2}$\n"
   ]
  },
  {
   "cell_type": "code",
   "execution_count": 35,
   "metadata": {
    "colab": {
     "base_uri": "https://localhost:8080/"
    },
    "id": "w-XN7tmASWN3",
    "nteract": {
     "transient": {
      "deleting": false
     }
    },
    "outputId": "7d6f59a3-ebfe-4500-b71f-88f29869a3e7"
   },
   "outputs": [
    {
     "name": "stdin",
     "output_type": "stream",
     "text": [
      "Enter the length of the first side, side1:  3\n",
      "Enter the length of the first side, side2:  4\n",
      "Enter the length of the first side, side3:  5\n"
     ]
    },
    {
     "name": "stdout",
     "output_type": "stream",
     "text": [
      "TrianglePerimeter = 12.00 \n",
      "TriangleArea = 6.00\n"
     ]
    }
   ],
   "source": [
    "## TrianglePerimeter\n",
    "#Input of three sides\n",
    "side1 = float(input(\"Enter the length of the first side, side1: \"))\n",
    "side2 = float(input(\"Enter the length of the first side, side2: \"))\n",
    "side3 = float(input(\"Enter the length of the first side, side3: \"))\n",
    "\n",
    "#Perimeter\n",
    "perimeter = side1 + side2 + side3\n",
    "\n",
    "#Print\n",
    "print(\"TrianglePerimeter = {0:.2f} \".format(perimeter))\n",
    "\n",
    "##TriangleArea\n",
    "#where\n",
    "p = perimeter/2\n",
    "\n",
    "#Area\n",
    "area = (p * (p-side1) * (p-side2) * (p-side3))**0.5\n",
    "\n",
    "print(\"TriangleArea = {0:.2f}\".format(area))\n"
   ]
  },
  {
   "cell_type": "markdown",
   "metadata": {
    "id": "1pXjKc23jXTj"
   },
   "source": [
    "*****\n",
    "\n"
   ]
  }
 ],
 "metadata": {
  "colab": {
   "collapsed_sections": [],
   "name": "CIND830F21_Assignment1_QA.ipynb",
   "provenance": []
  },
  "kernelspec": {
   "display_name": "Python 3 (ipykernel)",
   "language": "python",
   "name": "python3"
  },
  "language_info": {
   "codemirror_mode": {
    "name": "ipython",
    "version": 3
   },
   "file_extension": ".py",
   "mimetype": "text/x-python",
   "name": "python",
   "nbconvert_exporter": "python",
   "pygments_lexer": "ipython3",
   "version": "3.9.13"
  },
  "nteract": {
   "version": "0.28.0"
  },
  "varInspector": {
   "cols": {
    "lenName": 16,
    "lenType": 16,
    "lenVar": 40
   },
   "kernels_config": {
    "python": {
     "delete_cmd_postfix": "",
     "delete_cmd_prefix": "del ",
     "library": "var_list.py",
     "varRefreshCmd": "print(var_dic_list())"
    },
    "r": {
     "delete_cmd_postfix": ") ",
     "delete_cmd_prefix": "rm(",
     "library": "var_list.r",
     "varRefreshCmd": "cat(var_dic_list()) "
    }
   },
   "types_to_exclude": [
    "module",
    "function",
    "builtin_function_or_method",
    "instance",
    "_Feature"
   ],
   "window_display": false
  }
 },
 "nbformat": 4,
 "nbformat_minor": 4
}
