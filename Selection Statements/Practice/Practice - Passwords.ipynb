{
 "cells": [
  {
   "cell_type": "markdown",
   "metadata": {
    "id": "kJ6ssXaGJfGN"
   },
   "source": [
    "\n",
    "### Passwords\n"
   ]
  },
  {
   "cell_type": "markdown",
   "metadata": {
    "id": "FuimDKKbSWNw"
   },
   "source": [
    "\n",
    "### Question 1:\n",
    "**a)** Write a code that creates a set of passwords, based on a list of enetered country names.  Each password should be a combination of: \n",
    "- The first three letters of the country name\n",
    "- The country capital with no whitespaces\n",
    "- The country currency in uppercase\n",
    "- The country population in the scientific notation format\n",
    "\n",
    "For example, if the user enters 'Canada,Egypt,India,Turkey', then the code should generate the following list:\n",
    "\n",
    "| Password |\n",
    "|:-:|\n",
    "| CanOttawaCAD3.55e+07  |\n",
    "| EgyCairoEGP8.77e+07  |\n",
    "| IndNewDelhiINR1.26e+09  |\n",
    "| TurAnkaraTRY7.67e+07 |\n",
    "\n",
    "Hint:  You can use the [countryinfo] (https://pypi.org/project/countryinfo/) library to generate the required information of the entered countries."
   ]
  },
  {
   "cell_type": "code",
   "execution_count": 37,
   "metadata": {
    "colab": {
     "base_uri": "https://localhost:8080/"
    },
    "id": "WcD2RhP_SWNx",
    "nteract": {
     "transient": {
      "deleting": false
     }
    },
    "outputId": "1c7456b1-4ff8-4533-faf6-2f3b11a9d516"
   },
   "outputs": [
    {
     "name": "stdin",
     "output_type": "stream",
     "text": [
      "Enter the country names to generate the password Canada,Egypt,India,Turkey\n"
     ]
    },
    {
     "name": "stdout",
     "output_type": "stream",
     "text": [
      "\n",
      "Password\n",
      "--------\n",
      "CanOttawaCAD3.55e+07\n",
      "EgyCairoEGP8.77e+07\n",
      "IndNewDelhiINR1.26e+09\n",
      "TurAnkaraTRY7.67e+07\n"
     ]
    }
   ],
   "source": [
    "#!pip install countryinfo\n",
    "from countryinfo import CountryInfo\n",
    "\n",
    "#create the password\n",
    "def password(i):\n",
    "    psWord=\"\"\n",
    "    # to add first 3 letters of country name\n",
    "    psWord+=i[:3]\n",
    "    countryC = CountryInfo(i)\n",
    "    #Capital name\n",
    "    countryCap = countryC.capital().split()\n",
    "    #Without whitespaces\n",
    "    for temp in countryCap:\n",
    "        psWord+=temp\n",
    "    #Currency\n",
    "    for temp in countryC.currencies():\n",
    "        psWord+=temp\n",
    "    #Population in scientific notation\n",
    "    psWord+=\"{:.2e}\".format(countryC.population())\n",
    "    \n",
    "    #print password\n",
    "    print(psWord)\n",
    "    return psWord\n",
    "\n",
    "#List for passwords\n",
    "psWordList=[]\n",
    "passList=list(map(str, input(\"Enter the country names to generate the password\").split(\",\")))\n",
    "print(\"\\nPassword\")\n",
    "print(\"-\"*8) # print a line that separates the headers\n",
    "for i in passList:\n",
    "    psWordList.append(password(i))"
   ]
  },
  {
   "cell_type": "markdown",
   "metadata": {
    "id": "37BEjOofSWNx"
   },
   "source": [
    "**b)** Count the letters of each generated password in Q2.a, then print the password along with its number of characters.\n",
    "\n",
    "For example, if the user generated the following passwords, then the output should be as follows:\n",
    "\n",
    "| Password | Length |\n",
    "|:-:|:-:|\n",
    "| CanOttawaCAD3.55e+07  | 20|\n",
    "| EgyCairoEGP8.77e+07  | 19|\n",
    "| IndNewDelhiINR1.26e+09  | 22|\n",
    "| TurAnkaraTRY7.67e+07 | 20|\n",
    "\n"
   ]
  },
  {
   "cell_type": "code",
   "execution_count": 2,
   "metadata": {
    "colab": {
     "base_uri": "https://localhost:8080/"
    },
    "id": "6o7MaHjiSWNx",
    "jupyter": {
     "outputs_hidden": false
    },
    "outputId": "ee8cd25a-e945-4a31-f7cd-634c59722496",
    "pycharm": {
     "name": "#%%\n"
    }
   },
   "outputs": [
    {
     "name": "stdin",
     "output_type": "stream",
     "text": [
      "Enter the country names to generate the password Canada,Egypt,India,Turkey\n"
     ]
    },
    {
     "name": "stdout",
     "output_type": "stream",
     "text": [
      "\n",
      "Password \t\t Length\n",
      "-----------------------------------\n",
      "CanOttawaCAD3.55e+07 \t 20\n",
      "EgyCairoEGP8.77e+07 \t 19\n",
      "IndNewDelhiINR1.26e+09 \t 22\n",
      "TurAnkaraTRY7.67e+07 \t 20\n"
     ]
    }
   ],
   "source": [
    "\n",
    "#!pip install countryinfo\n",
    "from countryinfo import CountryInfo\n",
    "\n",
    "#create the password\n",
    "def password(i):\n",
    "    psWord=\"\"\n",
    "    # to add first 3 letters of country name\n",
    "    psWord+=i[:3]\n",
    "    countryC = CountryInfo(i)\n",
    "    #Capital name\n",
    "    countryCap = countryC.capital().split()\n",
    "    #Without whitespaces\n",
    "    for temp in countryCap:\n",
    "        psWord+=temp\n",
    "    #Currency\n",
    "    for temp in countryC.currencies():\n",
    "        psWord+=temp\n",
    "    #Population in scientific notation\n",
    "    psWord+=\"{:.2e}\".format(countryC.population())\n",
    "    \n",
    "    #print password\n",
    "    \n",
    "    return psWord\n",
    "\n",
    "#List for passwords\n",
    "psWordList=[]\n",
    "passList=list(map(str, input(\"Enter the country names to generate the password\").split(\",\")))\n",
    "for i in passList:\n",
    "    psWordList.append(password(i))\n",
    "\n",
    "\n",
    "#Count the letters of each password (length)\n",
    "def psLength(psWordList):\n",
    "    for i in psWordList:\n",
    "        print(i, \"\\t\", len(i))\n",
    "\n",
    "print(\"\\nPassword\", \"\\t\\t\", \"Length\")\n",
    "print(\"-\"*35) # print a line that separates the headers\n",
    "psLength(psWordList)"
   ]
  },
  {
   "cell_type": "markdown",
   "metadata": {
    "id": "DZ3AlY1eSWNy"
   },
   "source": [
    "**c)**  **[10 pts]** Write a code to print only the passwords with more than 19 characters and include either the letter 'D', the digit '9', or the punctuation symbol '-'.\n",
    "\n",
    "For example, the code should filter the generated passwords listed in 2.a, and print the following output:\n",
    "\n",
    "| Password | \n",
    "|:-|\n",
    "| CanOttawaCAD3.55e+07  |\n",
    "| IndNewDelhiINR1.26e+09 | "
   ]
  },
  {
   "cell_type": "code",
   "execution_count": 36,
   "metadata": {
    "colab": {
     "base_uri": "https://localhost:8080/"
    },
    "id": "fp2HLsRjSWNy",
    "jupyter": {
     "outputs_hidden": false
    },
    "outputId": "b79dc1a6-cb9f-4754-a68c-761ac6546361",
    "pycharm": {
     "name": "#%%\n"
    }
   },
   "outputs": [
    {
     "name": "stdin",
     "output_type": "stream",
     "text": [
      "Enter the country names to generate the password Canada,Egypt,India,Turkey\n"
     ]
    },
    {
     "name": "stdout",
     "output_type": "stream",
     "text": [
      "\n",
      "Password\n",
      "--------\n",
      "CanOttawaCAD3.55e+07\n",
      "IndNewDelhiINR1.26e+09\n"
     ]
    }
   ],
   "source": [
    "\n",
    "#!pip install countryinfo\n",
    "from countryinfo import CountryInfo\n",
    "\n",
    "#create the password\n",
    "def password(i):\n",
    "    psWord=\"\"\n",
    "    # to add first 3 letters of country name\n",
    "    psWord+=i[:3]\n",
    "    countryC = CountryInfo(i)\n",
    "    #Capital name\n",
    "    countryCap = countryC.capital().split()\n",
    "    #Without whitespaces\n",
    "    for temp in countryCap:\n",
    "        psWord+=temp\n",
    "    #Currency\n",
    "    for temp in countryC.currencies():\n",
    "        psWord+=temp\n",
    "    #Population in scientific notation\n",
    "    psWord+=\"{:.2e}\".format(countryC.population())\n",
    "  \n",
    "    return psWord\n",
    "\n",
    "#List for passwords\n",
    "psWordList=[]\n",
    "passList=list(map(str, input(\"Enter the country names to generate the password\").split(\",\")))\n",
    "for i in passList:\n",
    "    psWordList.append(password(i))\n",
    "\n",
    "#Password with length more than 19 \n",
    "#and contains \"D\", \"9\" or \"-\"\n",
    "def psFilter(psWordList):\n",
    "    for i in psWordList:\n",
    "        if len(i)>19 and(\"D\" in i or \"9\" in i or \"-\" in i):\n",
    "            print(i)\n",
    "\n",
    "#Print\n",
    "print(\"\\nPassword\")\n",
    "print(\"-\"*8) # print a line that separates the headers\n",
    "psFilter(psWordList)"
   ]
  },
  {
   "cell_type": "markdown",
   "metadata": {
    "id": "AYq_S2nwSWN0",
    "nteract": {
     "transient": {
      "deleting": false
     }
    }
   },
   "source": [
    "**BONUS** Write a program that rounds the country population to the nearest Million\n",
    "\n",
    "For example, if the user enters 'Canada,Egypt,India,Turkey', then the code should generate the following list:\n",
    "\n",
    "| Country | Population |\n",
    "|:-:| :-: |\n",
    "| Canada  | 36 Million |\n",
    "| Egypt | 88 Million |\n",
    "| India | 1264 Million |\n",
    "| Turkey | 77 Million |\n"
   ]
  },
  {
   "cell_type": "code",
   "execution_count": 12,
   "metadata": {
    "colab": {
     "base_uri": "https://localhost:8080/"
    },
    "id": "amGRkFofSWN0",
    "nteract": {
     "transient": {
      "deleting": false
     }
    },
    "outputId": "6bf874f9-dc1a-49c9-914b-38e7190dc43b"
   },
   "outputs": [
    {
     "name": "stdin",
     "output_type": "stream",
     "text": [
      "Enter the country names to generate the password Canada,Egypt,India,Turkey\n"
     ]
    },
    {
     "name": "stdout",
     "output_type": "stream",
     "text": [
      "Country \t Population\n",
      "-----------------------------------\n",
      "Canada \t\t 36 Million\n",
      "Egypt \t\t 88 Million\n",
      "India \t\t 1264 Million\n",
      "Turkey \t\t 77 Million\n"
     ]
    }
   ],
   "source": [
    "\n",
    "#!pip install countryinfo\n",
    "from countryinfo import CountryInfo\n",
    "\n",
    "#create the password\n",
    "def password(i):\n",
    "    psWord=\"\"\n",
    "    # to add first 3 letters of country name\n",
    "    psWord+=i[:3]\n",
    "    countryC = CountryInfo(i)\n",
    "    #Capital name\n",
    "    countryCap = countryC.capital().split()\n",
    "    #Without whitespaces\n",
    "    for temp in countryCap:\n",
    "        psWord+=temp\n",
    "    #Currency\n",
    "    for temp in countryC.currencies():\n",
    "        psWord+=temp\n",
    "    #Population in scientific notation\n",
    "    psWord+=\"{:.2e}\".format(countryC.population())\n",
    "    \n",
    "    return psWord\n",
    "\n",
    "#List for passwords\n",
    "psWordList=[]\n",
    "passList=list(map(str, input(\"Enter the country names to generate the password\").split(\",\")))\n",
    "for i in passList:\n",
    "    psWordList.append(password(i))\n",
    "\n",
    "#Round population to nearest million\n",
    "def populatRound(passList):\n",
    "    for i in passList:\n",
    "        countryC = CountryInfo(i)\n",
    "        #Nearest million\n",
    "        numbRound = int(round(countryC.population(), -6)/1000000)\n",
    "        print(i, \"\\t\\t\", str(numbRound)+\" Million\")\n",
    "#Print\n",
    "print(\"Country\", \"\\t\", \"Population\")\n",
    "print(\"-\"*35) # print a line that separates the headers\n",
    "populatRound(passList)"
   ]
  },
  {
   "cell_type": "markdown",
   "metadata": {
    "id": "h4Y5nKLdSWNz"
   },
   "source": [
    "**BONUS** Design an encoder that encrypts the passwords generated in Q2.a. by replacing each character with the corresponding octal form.\n",
    "\n",
    "For example, having the passwords listed in Q2.a., the code should display the following output:\n",
    "\n",
    "| Password | Encryption |\n",
    "|:-|:-|\n",
    "| CanOttawaCAD3.55e+07 | 0o1030o1410o1560o1170o1640o1640o1410o1670o1410o1030o1010o1040o630o560o650o650o1450o530o600o67 |\n",
    "| EgyCairoEGP8.77e+07 | 0o1050o1470o1710o1030o1410o1510o1620o1570o1050o1070o1200o700o560o670o670o1450o530o600o67 |\n",
    "| IndNewDelhiINR1.26e+09 | 0o1110o1560o1440o1160o1450o1670o1040o1450o1540o1500o1510o1110o1160o1220o610o560o620o660o1450o530o600o71 |\n",
    "| TurAnkaraTRY7.67e+07 | 0o1240o1650o1620o1010o1560o1530o1410o1620o1410o1240o1220o1310o670o560o660o670o1450o530o600o67 |"
   ]
  },
  {
   "cell_type": "code",
   "execution_count": 11,
   "metadata": {
    "colab": {
     "base_uri": "https://localhost:8080/"
    },
    "id": "qYS6m7UNSWNz",
    "outputId": "bdb2bdc3-dc01-4716-c9ee-172549765444",
    "pycharm": {
     "name": "#%%\n"
    },
    "tags": []
   },
   "outputs": [
    {
     "name": "stdin",
     "output_type": "stream",
     "text": [
      "Enter the country names to generate the password Canada,Egypt,India,Turkey\n"
     ]
    },
    {
     "name": "stdout",
     "output_type": "stream",
     "text": [
      "Password \t\t\t Encryption\n",
      "----------------------------------------------------------------------------------------------------\n",
      "CanOttawaCAD3.55e+07 \t 0o1030o1410o1560o1170o1640o1640o1410o1670o1410o1030o1010o1040o630o560o650o650o1450o530o600o67 \n",
      "\n",
      "EgyCairoEGP8.77e+07 \t 0o1050o1470o1710o1030o1410o1510o1620o1570o1050o1070o1200o700o560o670o670o1450o530o600o67 \n",
      "\n",
      "IndNewDelhiINR1.26e+09 \t 0o1110o1560o1440o1160o1450o1670o1040o1450o1540o1500o1510o1110o1160o1220o610o560o620o660o1450o530o600o71 \n",
      "\n",
      "TurAnkaraTRY7.67e+07 \t 0o1240o1650o1620o1010o1560o1530o1410o1620o1410o1240o1220o1310o670o560o660o670o1450o530o600o67 \n",
      "\n"
     ]
    }
   ],
   "source": [
    "\n",
    "#!pip install countryinfo\n",
    "from countryinfo import CountryInfo\n",
    "\n",
    "#create the password\n",
    "def password(i):\n",
    "    psWord=\"\"\n",
    "    # to add first 3 letters of country name\n",
    "    psWord+=i[:3]\n",
    "    countryC = CountryInfo(i)\n",
    "    #Capital name\n",
    "    countryCap = countryC.capital().split()\n",
    "    #Without whitespaces\n",
    "    for temp in countryCap:\n",
    "        psWord+=temp\n",
    "    #Currency\n",
    "    for temp in countryC.currencies():\n",
    "        psWord+=temp\n",
    "    #Population in scientific notation\n",
    "    psWord+=\"{:.2e}\".format(countryC.population())\n",
    "    \n",
    "    return psWord\n",
    "\n",
    "#List for passwords\n",
    "psWordList=[]\n",
    "passList=list(map(str, input(\"Enter the country names to generate the password\").split(\",\")))\n",
    "for i in passList:\n",
    "    psWordList.append(password(i))\n",
    "\n",
    "#Encrypt the password (octal form)\n",
    "def psEncrypt(passList):\n",
    "    for i in passList:\n",
    "        psOctalform=\"\"\n",
    "        #Each character to octal form\n",
    "        for j in i:\n",
    "            psOctalform+=oct(ord(j))\n",
    "        print(i, \"\\t\", psOctalform, \"\\n\")\n",
    "    \n",
    "#Print\n",
    "print(\"Password\", \"\\t\\t\\t\", \"Encryption\")\n",
    "print(\"-\"*100) # print a line that separates the headers\n",
    "psEncrypt(psWordList)"
   ]
  },
  {
   "cell_type": "markdown",
   "metadata": {
    "id": "pHcWCZ8mJfGU"
   },
   "source": [
    "*****"
   ]
  }
 ],
 "metadata": {
  "colab": {
   "collapsed_sections": [],
   "name": "CIND830F21_Assignment1_QA.ipynb",
   "provenance": []
  },
  "kernelspec": {
   "display_name": "Python 3 (ipykernel)",
   "language": "python",
   "name": "python3"
  },
  "language_info": {
   "codemirror_mode": {
    "name": "ipython",
    "version": 3
   },
   "file_extension": ".py",
   "mimetype": "text/x-python",
   "name": "python",
   "nbconvert_exporter": "python",
   "pygments_lexer": "ipython3",
   "version": "3.9.13"
  },
  "nteract": {
   "version": "0.28.0"
  },
  "varInspector": {
   "cols": {
    "lenName": 16,
    "lenType": 16,
    "lenVar": 40
   },
   "kernels_config": {
    "python": {
     "delete_cmd_postfix": "",
     "delete_cmd_prefix": "del ",
     "library": "var_list.py",
     "varRefreshCmd": "print(var_dic_list())"
    },
    "r": {
     "delete_cmd_postfix": ") ",
     "delete_cmd_prefix": "rm(",
     "library": "var_list.r",
     "varRefreshCmd": "cat(var_dic_list()) "
    }
   },
   "types_to_exclude": [
    "module",
    "function",
    "builtin_function_or_method",
    "instance",
    "_Feature"
   ],
   "window_display": false
  }
 },
 "nbformat": 4,
 "nbformat_minor": 4
}
