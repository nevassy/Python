{
 "cells": [
  {
   "cell_type": "markdown",
   "id": "cde4c5f0",
   "metadata": {},
   "source": [
    "## Selection Statements\n",
    "\n"
   ]
  },
  {
   "cell_type": "code",
   "execution_count": 12,
   "id": "f58d1ecf",
   "metadata": {},
   "outputs": [
    {
     "name": "stdout",
     "output_type": "stream",
     "text": [
      "Enter the numeric grade\n",
      "55\n",
      "Pass\n"
     ]
    }
   ],
   "source": [
    "# Selection Statement\n",
    "#one-way\n",
    "numericGrade = float(input(\"Enter the numeric grade\\n\"))\n",
    "\n",
    "if numericGrade >= 50:\n",
    "    print(\"Pass\")\n",
    "if numericGrade < 50:\n",
    "    print(\"Fail\")"
   ]
  },
  {
   "cell_type": "code",
   "execution_count": 13,
   "id": "a950f539",
   "metadata": {},
   "outputs": [
    {
     "name": "stdout",
     "output_type": "stream",
     "text": [
      "Enter the numeric grade\n",
      "46\n",
      "Fail\n"
     ]
    }
   ],
   "source": [
    "#Two-way\n",
    "numericGrade = float(input(\"Enter the numeric grade\\n\"))\n",
    "\n",
    "if numericGrade >= 50:\n",
    "    print(\"Pass\")\n",
    "else:\n",
    "    print(\"Fail\")"
   ]
  },
  {
   "cell_type": "code",
   "execution_count": 2,
   "id": "a9cf3301",
   "metadata": {},
   "outputs": [
    {
     "name": "stdout",
     "output_type": "stream",
     "text": [
      "Enter the numeric grade\n",
      "95\n",
      "Excellent\n"
     ]
    }
   ],
   "source": [
    "# Multi-way\n",
    "numericGrade = float(input(\"Enter the numeric grade\\n\"))\n",
    "\n",
    "if numericGrade >= 80:\n",
    "    print(\"Excellent\")\n",
    "elif numericGrade >= 70:\n",
    "    print(\"Good\")\n",
    "elif numericGrade >= 60:\n",
    "    print(\"Satisfactory\")\n",
    "elif numericGrade >= 50:\n",
    "    print(\"Marginal\")\n",
    "else:\n",
    "    print(\"Unsatisfactory\")\n"
   ]
  },
  {
   "cell_type": "code",
   "execution_count": 4,
   "id": "0cb64621",
   "metadata": {},
   "outputs": [
    {
     "name": "stdout",
     "output_type": "stream",
     "text": [
      "Enter the length in centimeters:\t85\n",
      "Enter the width in centimeters:\t85\n",
      "The shape is probably a Square.\n",
      "The area of this square is:\t\t 7225.0 cm2\n",
      "The perimeter of this square is:\t 340.0 cm2\n"
     ]
    }
   ],
   "source": [
    "iLength = float(input(\"Enter the length in centimeters:\\t\"))\n",
    "iWidth = float(input(\"Enter the width in centimeters:\\t\"))\n",
    "\n",
    "if iLength > 0 and iWidth > 0:\n",
    "    if iLength != iWidth:\n",
    "        print(\"The shape is probably a Rectangle.\")\n",
    "        iShape = \"rectangle\"\n",
    "    else:\n",
    "        print(\"The shape is probably a Square.\")\n",
    "        iShape= \"square\"\n",
    "else:\n",
    "    print(\"Please enter two positive numbers.\")\n",
    "    raise SystemExit\n",
    "\n",
    "iPeri = 2*(iLength + iWidth)\n",
    "iArea = iLength * iWidth\n",
    "print(\"The area of this\", iShape, \"is:\\t\\t\", str(iArea), \"cm2\")\n",
    "print(\"The perimeter of this\", iShape, \"is:\\t\", str(iPeri), \"cm2\")    \n",
    "    \n",
    "        \n",
    "\n",
    "\n"
   ]
  }
 ],
 "metadata": {
  "kernelspec": {
   "display_name": "Python 3 (ipykernel)",
   "language": "python",
   "name": "python3"
  },
  "language_info": {
   "codemirror_mode": {
    "name": "ipython",
    "version": 3
   },
   "file_extension": ".py",
   "mimetype": "text/x-python",
   "name": "python",
   "nbconvert_exporter": "python",
   "pygments_lexer": "ipython3",
   "version": "3.9.13"
  }
 },
 "nbformat": 4,
 "nbformat_minor": 5
}
