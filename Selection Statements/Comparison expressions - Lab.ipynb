{
 "cells": [
  {
   "cell_type": "markdown",
   "id": "cde4c5f0",
   "metadata": {},
   "source": [
    "## Comparison expressions\n"
   ]
  },
  {
   "cell_type": "code",
   "execution_count": 1,
   "id": "30518831",
   "metadata": {},
   "outputs": [
    {
     "name": "stdout",
     "output_type": "stream",
     "text": [
      "False\n"
     ]
    }
   ],
   "source": [
    "#a\n",
    "x = 1/2\n",
    "print(x < 1/2)"
   ]
  },
  {
   "cell_type": "code",
   "execution_count": 2,
   "id": "d589941c",
   "metadata": {},
   "outputs": [
    {
     "ename": "ZeroDivisionError",
     "evalue": "division by zero",
     "output_type": "error",
     "traceback": [
      "\u001b[1;31m---------------------------------------------------------------------------\u001b[0m",
      "\u001b[1;31mZeroDivisionError\u001b[0m                         Traceback (most recent call last)",
      "\u001b[1;32m~\\AppData\\Local\\Temp\\ipykernel_7004\\1484505966.py\u001b[0m in \u001b[0;36m<module>\u001b[1;34m\u001b[0m\n\u001b[0;32m      1\u001b[0m \u001b[1;31m#b\u001b[0m\u001b[1;33m\u001b[0m\u001b[1;33m\u001b[0m\u001b[0m\n\u001b[0;32m      2\u001b[0m \u001b[0mx\u001b[0m \u001b[1;33m=\u001b[0m \u001b[1;36m4\u001b[0m\u001b[1;33m\u001b[0m\u001b[1;33m\u001b[0m\u001b[0m\n\u001b[1;32m----> 3\u001b[1;33m \u001b[0mprint\u001b[0m\u001b[1;33m(\u001b[0m\u001b[1;36m4\u001b[0m \u001b[1;33m<=\u001b[0m \u001b[1;36m4\u001b[0m \u001b[1;33m/\u001b[0m \u001b[1;33m(\u001b[0m\u001b[0mx\u001b[0m\u001b[1;33m-\u001b[0m\u001b[1;36m4\u001b[0m\u001b[1;33m)\u001b[0m\u001b[1;33m)\u001b[0m\u001b[1;33m\u001b[0m\u001b[1;33m\u001b[0m\u001b[0m\n\u001b[0m",
      "\u001b[1;31mZeroDivisionError\u001b[0m: division by zero"
     ]
    }
   ],
   "source": [
    "#b\n",
    "x = 4\n",
    "print(4 <= 4 / (x-4))\n",
    "#The answer is error: division by zero"
   ]
  },
  {
   "cell_type": "code",
   "execution_count": 3,
   "id": "3943e1ba",
   "metadata": {},
   "outputs": [
    {
     "name": "stdout",
     "output_type": "stream",
     "text": [
      "True\n"
     ]
    }
   ],
   "source": [
    "# c\n",
    "import math\n",
    "x = 1\n",
    "print(math.log(x) < (x - 2) ** 4)"
   ]
  },
  {
   "cell_type": "code",
   "execution_count": 6,
   "id": "d87b20cb",
   "metadata": {},
   "outputs": [
    {
     "ename": "TypeError",
     "evalue": "'>=' not supported between instances of 'int' and 'NoneType'",
     "output_type": "error",
     "traceback": [
      "\u001b[1;31m---------------------------------------------------------------------------\u001b[0m",
      "\u001b[1;31mTypeError\u001b[0m                                 Traceback (most recent call last)",
      "\u001b[1;32m~\\AppData\\Local\\Temp\\ipykernel_7004\\90126037.py\u001b[0m in \u001b[0;36m<module>\u001b[1;34m\u001b[0m\n\u001b[0;32m      1\u001b[0m \u001b[0mx\u001b[0m \u001b[1;33m=\u001b[0m \u001b[1;36m2\u001b[0m\u001b[1;33m\u001b[0m\u001b[1;33m\u001b[0m\u001b[0m\n\u001b[0;32m      2\u001b[0m \u001b[0my\u001b[0m \u001b[1;33m=\u001b[0m \u001b[1;32mNone\u001b[0m\u001b[1;33m\u001b[0m\u001b[1;33m\u001b[0m\u001b[0m\n\u001b[1;32m----> 3\u001b[1;33m \u001b[0mprint\u001b[0m\u001b[1;33m(\u001b[0m\u001b[0mx\u001b[0m \u001b[1;33m>=\u001b[0m \u001b[1;32mNone\u001b[0m\u001b[1;33m)\u001b[0m\u001b[1;33m\u001b[0m\u001b[1;33m\u001b[0m\u001b[0m\n\u001b[0m",
      "\u001b[1;31mTypeError\u001b[0m: '>=' not supported between instances of 'int' and 'NoneType'"
     ]
    }
   ],
   "source": [
    "x = 2\n",
    "y = None\n",
    "print(x >= None)\n",
    "#The answer is error"
   ]
  },
  {
   "cell_type": "code",
   "execution_count": 7,
   "id": "6894a531",
   "metadata": {},
   "outputs": [
    {
     "name": "stdout",
     "output_type": "stream",
     "text": [
      "True\n"
     ]
    }
   ],
   "source": [
    "# b. Logical expressions\n",
    "x = 3\n",
    "print (2 < x and x <= 4)\n"
   ]
  },
  {
   "cell_type": "code",
   "execution_count": 9,
   "id": "94b3b015",
   "metadata": {},
   "outputs": [
    {
     "name": "stdout",
     "output_type": "stream",
     "text": [
      "None\n"
     ]
    }
   ],
   "source": [
    "x = 2\n",
    "# y >= 1 is missing\n",
    "\n",
    "print(x < 3 and None)"
   ]
  },
  {
   "cell_type": "code",
   "execution_count": 10,
   "id": "6ade6c95",
   "metadata": {},
   "outputs": [
    {
     "name": "stdout",
     "output_type": "stream",
     "text": [
      "True\n"
     ]
    }
   ],
   "source": [
    "x = 2\n",
    "# y >= 1 is missing\n",
    "\n",
    "print(x < 3 or None)"
   ]
  },
  {
   "cell_type": "code",
   "execution_count": 11,
   "id": "52fd61d3",
   "metadata": {},
   "outputs": [
    {
     "name": "stdout",
     "output_type": "stream",
     "text": [
      "True\n"
     ]
    }
   ],
   "source": [
    "x = y = 2\n",
    "w = 4\n",
    "\n",
    "print(x <= y or y < w and w < x)\n"
   ]
  },
  {
   "cell_type": "code",
   "execution_count": 12,
   "id": "f58d1ecf",
   "metadata": {},
   "outputs": [
    {
     "name": "stdout",
     "output_type": "stream",
     "text": [
      "Enter the numeric grade\n",
      "55\n",
      "Pass\n"
     ]
    }
   ],
   "source": [
    "# Selection Statement\n",
    "#one-way\n",
    "numericGrade = float(input(\"Enter the numeric grade\\n\"))\n",
    "\n",
    "if numericGrade >= 50:\n",
    "    print(\"Pass\")\n",
    "if numericGrade < 50:\n",
    "    print(\"Fail\")"
   ]
  },
  {
   "cell_type": "code",
   "execution_count": 13,
   "id": "a950f539",
   "metadata": {},
   "outputs": [
    {
     "name": "stdout",
     "output_type": "stream",
     "text": [
      "Enter the numeric grade\n",
      "46\n",
      "Fail\n"
     ]
    }
   ],
   "source": [
    "#Two-way\n",
    "numericGrade = float(input(\"Enter the numeric grade\\n\"))\n",
    "\n",
    "if numericGrade >= 50:\n",
    "    print(\"Pass\")\n",
    "else:\n",
    "    print(\"Fail\")"
   ]
  },
  {
   "cell_type": "code",
   "execution_count": 4,
   "id": "0cb64621",
   "metadata": {},
   "outputs": [
    {
     "name": "stdout",
     "output_type": "stream",
     "text": [
      "Enter the length in centimeters:\t85\n",
      "Enter the width in centimeters:\t85\n",
      "The shape is probably a Square.\n",
      "The area of this square is:\t\t 7225.0 cm2\n",
      "The perimeter of this square is:\t 340.0 cm2\n"
     ]
    }
   ],
   "source": [
    "iLength = float(input(\"Enter the length in centimeters:\\t\"))\n",
    "iWidth = float(input(\"Enter the width in centimeters:\\t\"))\n",
    "\n",
    "if iLength > 0 and iWidth > 0:\n",
    "    if iLength != iWidth:\n",
    "        print(\"The shape is probably a Rectangle.\")\n",
    "        iShape = \"rectangle\"\n",
    "    else:\n",
    "        print(\"The shape is probably a Square.\")\n",
    "        iShape= \"square\"\n",
    "else:\n",
    "    print(\"Please enter two positive numbers.\")\n",
    "    raise SystemExit\n",
    "\n",
    "iPeri = 2*(iLength + iWidth)\n",
    "iArea = iLength * iWidth\n",
    "print(\"The area of this\", iShape, \"is:\\t\\t\", str(iArea), \"cm2\")\n",
    "print(\"The perimeter of this\", iShape, \"is:\\t\", str(iPeri), \"cm2\")    \n",
    "    \n",
    "        \n",
    "\n",
    "\n"
   ]
  }
 ],
 "metadata": {
  "kernelspec": {
   "display_name": "Python 3 (ipykernel)",
   "language": "python",
   "name": "python3"
  },
  "language_info": {
   "codemirror_mode": {
    "name": "ipython",
    "version": 3
   },
   "file_extension": ".py",
   "mimetype": "text/x-python",
   "name": "python",
   "nbconvert_exporter": "python",
   "pygments_lexer": "ipython3",
   "version": "3.9.13"
  }
 },
 "nbformat": 4,
 "nbformat_minor": 5
}
